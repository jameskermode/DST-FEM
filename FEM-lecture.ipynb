{
 "cells": [
  {
   "cell_type": "code",
   "execution_count": 3,
   "metadata": {
    "collapsed": false,
    "slideshow": {
     "slide_type": "skip"
    }
   },
   "outputs": [
    {
     "data": {
      "text/plain": [
       "trisurf (generic function with 2 methods)"
      ]
     },
     "execution_count": 3,
     "metadata": {},
     "output_type": "execute_result"
    }
   ],
   "source": [
    "# startup code for examples and visualisations\n",
    "Pkg.add(\"QuadGK\")\n",
    "using QuadGK\n",
    "using PyPlot: spy, plot_trisurf\n",
    "using Plots\n",
    "\n",
    "function trisurf(T, X, Z, colormap=\"jet\")\n",
    "    PyPlot.plot_trisurf(view(X,1,:), view(X,2,:), Z[:], triangles=T'-1, \n",
    "                        cmap=PyPlot.ColorMap(colormap), linewidth=0.5)\n",
    "end"
   ]
  },
  {
   "cell_type": "markdown",
   "metadata": {
    "slideshow": {
     "slide_type": "slide"
    }
   },
   "source": [
    "\n",
    "## Introduction to Finite Element Methods\n",
    "\n",
    "<br>\n",
    "\n",
    "### DST Module 4\n",
    "\n",
    "<br>\n",
    "\n",
    "\n",
    "### James Kermode\n",
    "\n",
    "<b>j.r.kermode@warwick.ac.uk</b>\n",
    "\n",
    "Warwick Centre for Predictive Modelling / School of Engineering\n",
    "\n",
    "<table style=\"border-style: hidden;\">\n",
    "<tr>\n",
    "<td style=\"border-right: none\"><img src=\"images/WCPM_logo_text.png\" width=\"250\"></td>\n",
    "<td style=\"border-left: none\"><img src=\"images/dst-logo.png\" width=\"250\"></td>\n",
    "</tr>\n",
    "</table>"
   ]
  },
  {
   "cell_type": "markdown",
   "metadata": {
    "slideshow": {
     "slide_type": "slide"
    }
   },
   "source": [
    "## Multiscale Materials Modelling\n",
    "\n",
    "<img src=\"images/multiscale2.png\" width=\"90%\">"
   ]
  },
  {
   "cell_type": "markdown",
   "metadata": {
    "slideshow": {
     "slide_type": "slide"
    }
   },
   "source": [
    "## Finite Element Analysis\n",
    "\n",
    "<img align=\"right\" width=\"30%\" src=\"https://cdn.comsol.com/cyclopedia/finite-element-method/analysis-of-wheel-rim.png\">\n",
    "\n",
    "- Finite Element Analysis (FEA) or Finite Element Method (FEM) is a numerical method for solving continuum problems expressed as partial differential equations (PDEs) on a discrete mesh, e.g.\n",
    "\n",
    "    - Mechanics for solids and structures\n",
    "    - Heat transfer\n",
    "    - Fluid flow\n",
    "    - Soil mechanics\n",
    "    - Electromagnetic fields\n",
    "\n",
    "- Useful where analytical solutions can't easily be obtained, e.g. complicated geometries, loadings or material properties\n",
    "\n"
   ]
  },
  {
   "cell_type": "markdown",
   "metadata": {
    "slideshow": {
     "slide_type": "subslide"
    }
   },
   "source": [
    "## Further Reading\n",
    "\n",
    "<table align=\"right\" style=\"border-style: hidden;\">\n",
    "<tr>\n",
    "<td style=\"border-right: none\"><img src=\"https://images-na.ssl-images-amazon.com/images/I/414uq1O2NKL._SX349_BO1,204,203,200_.jpg\" width=\"150px\"></td>\n",
    "<td style=\"border-left: none\"><img src=\"http://secure-ecsd.elsevier.com/covers/80/Tango2/large/9780080531670.jpg\" width=\"150px\"></td>\n",
    "</tr>\n",
    "</table>\n",
    "\n",
    "This lecture provides only a very brief introduction. Many good textbooks, including:\n",
    "\n",
    "- Thomas J. R. Hughes *The Finite Element Method: Linear Static and Dynamic Finite Element Analysis*, Dover Publications (2000)\n",
    "- O. C. Zienkiewicz, R. L. Taylor *The Finite Element Method, Sixth Edition*, Butterworth-Heinemann (2006)\n",
    "\n",
    "**Note on examples:** I will use the [Julia](http://julialang.org/) language (similar to Python and Matlab) for simple examples.  Interactive slides on Moodle can be run using [JuliaBox](https://juliabox.com/) website."
   ]
  },
  {
   "cell_type": "markdown",
   "metadata": {
    "slideshow": {
     "slide_type": "subslide"
    }
   },
   "source": [
    "## Historial Overview\n",
    "\n",
    "<img align=\"right\" src=\"https://upload.wikimedia.org/wikipedia/commons/thumb/4/4a/FAE_visualization.jpg/250px-FAE_visualization.jpg\">\n",
    "\n",
    "- Grew out of aerospace industry in 1950s: jets, missiles and space flight\n",
    "    - Need for light weight structures\n",
    "    - Accurate stress analysis\n",
    "- Developed in 1960s and 70s, alongside high performance computing capabilites\n",
    "- Now very widely used in academia and industry, with many commerial codes: ABAQUS, ANSYS, COMSOL, etc.\n",
    "- Important to have understanding of fundamentals of approach, inputs and outputs, and strengths and limitations"
   ]
  },
  {
   "cell_type": "markdown",
   "metadata": {
    "slideshow": {
     "slide_type": "slide"
    }
   },
   "source": [
    "## Principles of Finite Element Analysis\n",
    "\n",
    "<img align=\"right\" width=\"30%\" src=\"http://charm.cs.uiuc.edu/ppl_manuals/old/fem/simple_mesh.png\">\n",
    "\n",
    "- Computational technique to obtain approximate solutions of **boundary value problems**\n",
    "\n",
    "- Also known as **field problems**: field is domain of interest, representing physical structure.\n",
    "\n",
    "- **Field variables** are dependent variables governed by a (partial) differential equation\n",
    "\n",
    "- **Boundary conditions** are specified values of field variables (or e.g. their derivatives) on boundary of domain"
   ]
  },
  {
   "cell_type": "markdown",
   "metadata": {
    "slideshow": {
     "slide_type": "slide"
    }
   },
   "source": [
    "## Shape functions\n",
    "\n",
    "<img align=\"right\" width=\"40%\" src=\"linear-fe.png\">\n",
    "\n",
    "- Field variables are evaluated at **nodes**. Values inside **elements** are approximated by interpolation using **shape functions**\n",
    "\n",
    "- Displacement within element interpolated between nodes \n",
    "$$\n",
    "u(x) = \\sum_i N_i(x) u_i = N_1(x)u_1 + N_2(x) u_2 = \\boldsymbol{N} \\boldsymbol{u}\n",
    "$$\n",
    "where $\\boldsymbol{N} = [N_1\\; N_2]$ and $\\boldsymbol{u} = \\left(u_1\\; u_2\\right)^T$.\n",
    "- Boundary conditions: $u_1 = u(x=x_1), \\; u_2 = u(x=x_2)$\n",
    "$$\\implies N_1(x_1) = 1,\\; N_2(x_1) = 0,\\;N_1(x_2) = 0,\\; N_2(x_2) = 1$$"
   ]
  },
  {
   "cell_type": "markdown",
   "metadata": {
    "slideshow": {
     "slide_type": "subslide"
    }
   },
   "source": [
    "## Example - linear finite element shape functions\n",
    "\n",
    "Displacement within 1D linear element\n",
    "$u(x) = \\sum_i N_i(x) u_i$"
   ]
  },
  {
   "cell_type": "code",
   "execution_count": 4,
   "metadata": {
    "collapsed": false,
    "slideshow": {
     "slide_type": "-"
    }
   },
   "outputs": [
    {
     "name": "stderr",
     "output_type": "stream",
     "text": [
      "\u001b[1m\u001b[33mWARNING: \u001b[39m\u001b[22m\u001b[33msin{T <: Number}(x::AbstractArray{T}) is deprecated, use sin.(x) instead.\u001b[39m\n",
      "Stacktrace:\n",
      " [1] \u001b[1mdepwarn\u001b[22m\u001b[22m\u001b[1m(\u001b[22m\u001b[22m::String, ::Symbol\u001b[1m)\u001b[22m\u001b[22m at \u001b[1m./deprecated.jl:70\u001b[22m\u001b[22m\n",
      " [2] \u001b[1msin\u001b[22m\u001b[22m\u001b[1m(\u001b[22m\u001b[22m::StepRangeLen{Float64,Base.TwicePrecision{Float64},Base.TwicePrecision{Float64}}\u001b[1m)\u001b[22m\u001b[22m at \u001b[1m./deprecated.jl:57\u001b[22m\u001b[22m\n",
      " [3] \u001b[1minclude_string\u001b[22m\u001b[22m\u001b[1m(\u001b[22m\u001b[22m::String, ::String\u001b[1m)\u001b[22m\u001b[22m at \u001b[1m./loading.jl:515\u001b[22m\u001b[22m\n",
      " [4] \u001b[1mexecute_request\u001b[22m\u001b[22m\u001b[1m(\u001b[22m\u001b[22m::ZMQ.Socket, ::IJulia.Msg\u001b[1m)\u001b[22m\u001b[22m at \u001b[1m/opt/julia_packages/.julia/v0.6/IJulia/src/execute_request.jl:160\u001b[22m\u001b[22m\n",
      " [5] \u001b[1meventloop\u001b[22m\u001b[22m\u001b[1m(\u001b[22m\u001b[22m::ZMQ.Socket\u001b[1m)\u001b[22m\u001b[22m at \u001b[1m/opt/julia_packages/.julia/v0.6/IJulia/src/eventloop.jl:8\u001b[22m\u001b[22m\n",
      " [6] \u001b[1m(::IJulia.##11#14)\u001b[22m\u001b[22m\u001b[1m(\u001b[22m\u001b[22m\u001b[1m)\u001b[22m\u001b[22m at \u001b[1m./task.jl:335\u001b[22m\u001b[22m\n",
      "while loading In[4], in expression starting on line 6\n"
     ]
    },
    {
     "data": {
      "text/html": [
       "<script src=\"/opt/julia_packages/.julia/v0.6/Plots/src/backends/../../deps/plotly-latest.min.js\"></script>    <div id=\"299456d7-d348-4d20-9534-bc8776c21dc9\" style=\"width:500px;height:250px;\"></div>\n",
       "    <script>\n",
       "    PLOT = document.getElementById('299456d7-d348-4d20-9534-bc8776c21dc9');\n",
       "    Plotly.plot(PLOT, [{\"showlegend\":true,\"mode\":\"lines\",\"xaxis\":\"x\",\"colorbar\":{\"title\":\"\"},\"line\":{\"color\":\"rgba(0, 154, 250, 1.000)\",\"shape\":\"linear\",\"dash\":\"solid\",\"width\":2},\"y\":[1.0,0.9795918367346939,0.9591836734693877,0.9387755102040817,0.9183673469387755,0.8979591836734694,0.8775510204081632,0.8571428571428571,0.8367346938775511,0.8163265306122449,0.7959183673469388,0.7755102040816326,0.7551020408163265,0.7346938775510204,0.7142857142857143,0.6938775510204082,0.673469387755102,0.6530612244897959,0.6326530612244898,0.6122448979591837,0.5918367346938775,0.5714285714285714,0.5510204081632653,0.5306122448979592,0.5102040816326531,0.4897959183673469,0.46938775510204084,0.4489795918367347,0.42857142857142855,0.40816326530612246,0.3877551020408163,0.3673469387755102,0.3469387755102041,0.32653061224489793,0.30612244897959184,0.2857142857142857,0.2653061224489796,0.24489795918367346,0.22448979591836735,0.20408163265306123,0.1836734693877551,0.16326530612244897,0.14285714285714285,0.12244897959183673,0.10204081632653061,0.08163265306122448,0.061224489795918366,0.04081632653061224,0.02040816326530612,0.0],\"type\":\"scatter\",\"name\":\"N1(x)\",\"yaxis\":\"y\",\"x\":[1,2,3,4,5,6,7,8,9,10,11,12,13,14,15,16,17,18,19,20,21,22,23,24,25,26,27,28,29,30,31,32,33,34,35,36,37,38,39,40,41,42,43,44,45,46,47,48,49,50]},{\"showlegend\":true,\"mode\":\"lines\",\"xaxis\":\"x2\",\"colorbar\":{\"title\":\"\"},\"line\":{\"color\":\"rgba(0, 154, 250, 1.000)\",\"shape\":\"linear\",\"dash\":\"solid\",\"width\":2},\"y\":[0.0,0.020406746651514887,0.04080499432827389,0.06118624759516286,0.08154201809487689,0.10186382808314016,0.12214321395950552,0.14237172979226365,0.16254095083599351,0.18264247704028902,0.20266793654820095,0.22260898918293684,0.24245732992136676,0.26220469235288824,0.28184285212220994,0.30136363035462055,0.3207588970623151,0.34002057453036205,0.35914064068089907,0.37811113241415717,0.39692414892492234,0.415571854993052,0.43404648424667736,0.4523403423967316,0.470445810441457,0.4883553478395571,0.5060614956506708,0.5235568796418621,0.5408342133588315,0.5578863011605676,0.5747060412161791,0.5912864284626556,0.6076205575223265,0.6237016255788046,0.6395229352102129,0.6550778971785186,0.67036003317381,0.6853629785123744,0.7000804847874535,0.714506422471571,0.7286347834693504,0.7424596836197583,0.7559753651467324,0.7691761990571722,0.7820566874852943,0.7946114659823771,0.8068353057509382,0.8187231158224175,0.8302699451774576,0.8414709848078965],\"type\":\"scatter\",\"name\":\"sin(x)\",\"yaxis\":\"y2\",\"x\":[1,2,3,4,5,6,7,8,9,10,11,12,13,14,15,16,17,18,19,20,21,22,23,24,25,26,27,28,29,30,31,32,33,34,35,36,37,38,39,40,41,42,43,44,45,46,47,48,49,50]},{\"showlegend\":true,\"mode\":\"lines\",\"xaxis\":\"x\",\"colorbar\":{\"title\":\"\"},\"line\":{\"color\":\"rgba(227, 111, 71, 1.000)\",\"shape\":\"linear\",\"dash\":\"solid\",\"width\":2},\"y\":[0.0,0.02040816326530612,0.04081632653061224,0.061224489795918366,0.08163265306122448,0.10204081632653061,0.12244897959183673,0.14285714285714285,0.16326530612244897,0.1836734693877551,0.20408163265306123,0.22448979591836735,0.24489795918367346,0.2653061224489796,0.2857142857142857,0.30612244897959184,0.32653061224489793,0.3469387755102041,0.3673469387755102,0.3877551020408163,0.40816326530612246,0.42857142857142855,0.4489795918367347,0.46938775510204084,0.4897959183673469,0.5102040816326531,0.5306122448979592,0.5510204081632653,0.5714285714285714,0.5918367346938775,0.6122448979591837,0.6326530612244898,0.6530612244897959,0.673469387755102,0.6938775510204082,0.7142857142857143,0.7346938775510204,0.7551020408163265,0.7755102040816326,0.7959183673469388,0.8163265306122449,0.8367346938775511,0.8571428571428571,0.8775510204081632,0.8979591836734694,0.9183673469387755,0.9387755102040817,0.9591836734693877,0.9795918367346939,1.0],\"type\":\"scatter\",\"name\":\"N2(x)\",\"yaxis\":\"y\",\"x\":[1,2,3,4,5,6,7,8,9,10,11,12,13,14,15,16,17,18,19,20,21,22,23,24,25,26,27,28,29,30,31,32,33,34,35,36,37,38,39,40,41,42,43,44,45,46,47,48,49,50]},{\"showlegend\":true,\"mode\":\"lines\",\"xaxis\":\"x2\",\"colorbar\":{\"title\":\"\"},\"line\":{\"color\":\"rgba(227, 111, 71, 1.000)\",\"shape\":\"linear\",\"dash\":\"solid\",\"width\":2},\"y\":[0.0,0.01717287724097748,0.03434575448195496,0.051518631722932445,0.06869150896390992,0.08586438620488741,0.10303726344586489,0.12021014068684237,0.13738301792781984,0.15455589516879734,0.17172877240977483,0.1889016496507523,0.20607452689172978,0.22324740413270727,0.24042028137368474,0.2575931586146622,0.2747660358556397,0.2919389130966172,0.30911179033759467,0.32628466757857216,0.34345754481954965,0.3606304220605271,0.3778032993015046,0.39497617654248207,0.41214905378345956,0.42932193102443705,0.44649480826541454,0.463667685506392,0.48084056274736947,0.49801343998834696,0.5151863172293244,0.5323591944703019,0.5495320717112794,0.5667049489522569,0.5838778261932344,0.6010507034342119,0.6182235806751893,0.6353964579161668,0.6525693351571443,0.6697422123981218,0.6869150896390993,0.7040879668800767,0.7212608441210542,0.7384337213620317,0.7556065986030092,0.7727794758439867,0.7899523530849641,0.8071252303259416,0.8242981075669191,0.8414709848078966],\"type\":\"scatter\",\"name\":\"u(x)\",\"yaxis\":\"y2\",\"x\":[1,2,3,4,5,6,7,8,9,10,11,12,13,14,15,16,17,18,19,20,21,22,23,24,25,26,27,28,29,30,31,32,33,34,35,36,37,38,39,40,41,42,43,44,45,46,47,48,49,50]}], {\"xaxis\":{\"tickvals\":[10.0,20.0,30.0,40.0,50.0],\"ticks\":\"inside\",\"tickmode\":\"array\",\"domain\":[0.06120734908136483,0.4832370953630796],\"linecolor\":\"rgba(0, 0, 0, 1.000)\",\"showgrid\":true,\"title\":\"x\",\"tickangle\":0,\"titlefont\":{\"color\":\"rgba(0, 0, 0, 1.000)\",\"family\":\"sans-serif\",\"size\":15},\"tickcolor\":\"rgba(0, 0, 0, 1.000)\",\"ticktext\":[\"10\",\"20\",\"30\",\"40\",\"50\"],\"zeroline\":false,\"type\":\"-\",\"tickfont\":{\"color\":\"rgba(0, 0, 0, 1.000)\",\"family\":\"sans-serif\",\"size\":11},\"anchor\":\"y\"},\"paper_bgcolor\":\"rgba(255, 255, 255, 1.000)\",\"height\":250,\"yaxis\":{\"tickvals\":[0.0,0.2,0.4,0.6000000000000001,0.8,1.0],\"ticks\":\"inside\",\"tickmode\":\"array\",\"domain\":[0.12130358705161852,0.9842519685039369],\"linecolor\":\"rgba(0, 0, 0, 1.000)\",\"showgrid\":true,\"title\":\"\",\"tickangle\":0,\"titlefont\":{\"color\":\"rgba(0, 0, 0, 1.000)\",\"family\":\"sans-serif\",\"size\":15},\"tickcolor\":\"rgba(0, 0, 0, 1.000)\",\"ticktext\":[\"0.0\",\"0.2\",\"0.4\",\"0.6\",\"0.8\",\"1.0\"],\"zeroline\":false,\"type\":\"-\",\"tickfont\":{\"color\":\"rgba(0, 0, 0, 1.000)\",\"family\":\"sans-serif\",\"size\":11},\"anchor\":\"x\"},\"yaxis2\":{\"tickvals\":[0.0,0.25,0.5,0.75],\"ticks\":\"inside\",\"tickmode\":\"array\",\"domain\":[0.12130358705161852,0.9842519685039369],\"linecolor\":\"rgba(0, 0, 0, 1.000)\",\"showgrid\":true,\"title\":\"\",\"tickangle\":0,\"titlefont\":{\"color\":\"rgba(0, 0, 0, 1.000)\",\"family\":\"sans-serif\",\"size\":15},\"tickcolor\":\"rgba(0, 0, 0, 1.000)\",\"ticktext\":[\"0.00\",\"0.25\",\"0.50\",\"0.75\"],\"zeroline\":false,\"type\":\"-\",\"tickfont\":{\"color\":\"rgba(0, 0, 0, 1.000)\",\"family\":\"sans-serif\",\"size\":11},\"anchor\":\"x2\"},\"annotations\":[],\"plot_bgcolor\":\"rgba(255, 255, 255, 1.000)\",\"showlegend\":true,\"legend\":{\"bordercolor\":\"rgba(0, 0, 0, 1.000)\",\"bgcolor\":\"rgba(255, 255, 255, 1.000)\",\"font\":{\"color\":\"rgba(0, 0, 0, 1.000)\",\"family\":\"sans-serif\",\"size\":11},\"y\":1.0,\"x\":1.0},\"xaxis2\":{\"tickvals\":[10.0,20.0,30.0,40.0,50.0],\"ticks\":\"inside\",\"tickmode\":\"array\",\"domain\":[0.5700962379702537,0.9921259842519685],\"linecolor\":\"rgba(0, 0, 0, 1.000)\",\"showgrid\":true,\"title\":\"x\",\"tickangle\":0,\"titlefont\":{\"color\":\"rgba(0, 0, 0, 1.000)\",\"family\":\"sans-serif\",\"size\":15},\"tickcolor\":\"rgba(0, 0, 0, 1.000)\",\"ticktext\":[\"10\",\"20\",\"30\",\"40\",\"50\"],\"zeroline\":false,\"type\":\"-\",\"tickfont\":{\"color\":\"rgba(0, 0, 0, 1.000)\",\"family\":\"sans-serif\",\"size\":11},\"anchor\":\"y2\"},\"margin\":{\"l\":0,\"b\":20,\"r\":0,\"t\":20},\"width\":500});\n",
       "    </script>\n"
      ]
     },
     "execution_count": 4,
     "metadata": {},
     "output_type": "execute_result"
    }
   ],
   "source": [
    "x1, x2 = 0.0, 1.0\n",
    "u1, u2 = sin(x1), sin(x2)\n",
    "x = linspace(x1, x2)\n",
    "N_1 = 1 - (x - x1)/(x2 - x1)\n",
    "N_2 = (x - x1)/(x2 - x1)\n",
    "plot([N_1, sin(x), N_2, N_1*u1 + N_2*u2], layout=2,\n",
    "    label=[\"N1(x)\" \"sin(x)\" \"N2(x)\" \"u(x)\"], lw=2, size=(500,250), xlabel=:x)"
   ]
  },
  {
   "cell_type": "markdown",
   "metadata": {
    "slideshow": {
     "slide_type": "slide"
    }
   },
   "source": [
    "## Finite element solution of differential equations\n",
    "\n",
    "Many problems can be describe by an ordinary differential equation with a **strong form** similar to\n",
    "$$\n",
    "a\\frac{\\mathrm{d^2}u}{\\mathrm{d}x^2} + b = 0,\\; 0 \\le x \\le L\n",
    "$$\n",
    "with boundary conditions $u(x=0) = 0$ and $\\left.a\\frac{\\mathrm{d}u}{\\mathrm{d}x}\\right|_{x=L} = R$.\n",
    "\n",
    "Substituting $u(x) = \\sum_i N_i(x) u_i = \\boldsymbol{N}\\boldsymbol{u}$ gives\n",
    "$$\n",
    "    a \\frac{\\mathrm{d^2}}{\\mathrm{d}x^2} \\left( \\boldsymbol{N} \\boldsymbol{u} \\right) + b = \\phi\n",
    "$$\n",
    "where the residual $\\phi \\ne 0$ due to piecewise linear approximation."
   ]
  },
  {
   "cell_type": "markdown",
   "metadata": {
    "slideshow": {
     "slide_type": "subslide"
    }
   },
   "source": [
    "## Galerkin method:  find weak form of equation\n",
    "\n",
    "We can use the Galerkin method to minimise the residual $\\phi$, multiplying by $\\boldsymbol{N}^T$, integrating over each element and equating to zero:\n",
    "$$\n",
    "    \\int_{x_1}^{x_2} \\left(\n",
    "        \\boldsymbol{N}^T a \\frac{\\mathrm{d^2}}{\\mathrm{d}x^2} \\left( \\boldsymbol{N} \\boldsymbol{u} \\right) +\n",
    "        \\boldsymbol{N}^T b\n",
    "    \\right)\\,\\mathrm{d}x = 0\n",
    "$$\n",
    "\n",
    "Integrating by parts gives a discrete **weak form** of the differential equation including the boundary conditions\n",
    "$$\n",
    "    \\left(\\int_{x_1}^{x_2}\n",
    "      \\frac{\\mathrm{d}\\boldsymbol{N}}{\\mathrm{d}x}^T a\n",
    "      \\frac{\\mathrm{d}\\boldsymbol{N}}{\\mathrm{d}x}\n",
    "    \\,\\mathrm{d}x \\right)\\boldsymbol{u}\n",
    "    =  \\int_{x_1}^{x_2}\n",
    "    \\boldsymbol{N}^T b\n",
    "    \\,\\mathrm{d}x \n",
    "    + \\left(\\begin{array}{c} 0 \\\\ 1\n",
    "    \\end{array}\\right) \\left.a\\frac{\\mathrm{d}u}{\\mathrm{d}x}\\right|_{x=x_2}\n",
    "    -\n",
    "    \\left(\\begin{array}{c} 1 \\\\ 0\n",
    "    \\end{array}\\right) \\left.a\\frac{\\mathrm{d}u}{\\mathrm{d}x}\\right|_{x=x_1}\n",
    "$$"
   ]
  },
  {
   "cell_type": "markdown",
   "metadata": {
    "slideshow": {
     "slide_type": "subslide"
    }
   },
   "source": [
    "## General form of finite element equations\n",
    "\n",
    "The weak form for the element is usually written as\n",
    "$\\boldsymbol{k}_e \\boldsymbol{u}_e = \\boldsymbol{b}_e$,\n",
    "where the elemental stiffness matrix and force array are given by\n",
    "\n",
    "$$\n",
    "\\boldsymbol{k}_e = \\int_{x_1}^{x_2}\n",
    "\\frac{\\mathrm{d}\\boldsymbol{N}}{\\mathrm{d}x}^T\n",
    "a \\frac{\\mathrm{d}\\boldsymbol{N}}{\\mathrm{d}x}\n",
    "\\mathrm{d} x\n",
    "$$\n",
    "\n",
    "and\n",
    "\n",
    "$$\n",
    "\\boldsymbol{b}_e = \\int_{x_1}^{x_2} \\boldsymbol{N}^T b  \\; \\mathrm{d} x \n",
    "    + \n",
    "    \\left(\\begin{array}{c} 0 \\\\ 1\n",
    "    \\end{array}\\right) \\left.a\\frac{\\mathrm{d}u}{\\mathrm{d}x}\\right|_{x=x_2}\n",
    "    -\n",
    "    \\left(\\begin{array}{c} 1 \\\\ 0\n",
    "    \\end{array}\\right) \\left.a\\frac{\\mathrm{d}u}{\\mathrm{d}x}\\right|_{x=x_1}\n",
    "$$\n",
    "\n",
    "Assembling elemental stiffness matrices and forces vectors gives the global equation $\\boldsymbol{K} \\boldsymbol{u} = \\boldsymbol{b}$."
   ]
  },
  {
   "cell_type": "markdown",
   "metadata": {
    "slideshow": {
     "slide_type": "slide"
    }
   },
   "source": [
    "## General steps in solving a problem using FEM\n",
    "\n",
    "<table style=\"border:none; border-spacing: 10px; border-collapse: separate\">\n",
    "<tr>\n",
    "<td style=\"padding: 15px; line-height: 36px; text-align: center; background: rgba(0,0,255,0.3)\">Real World</td>\n",
    "<td style=\"border:none\">&#x2192;</td>\n",
    "<td style=\"background: rgba(0,0,255,0.3); line-height: 36px; text-align: center\">Simplified Physical Model</td>\n",
    "<td style=\"border:none\">&#x2192;</td>\n",
    "<td style=\"background: rgba(0,0,255,0.3);line-height: 36px; text-align: center\">Mathematical Model</td>\n",
    "<td style=\"border:none\">&#x2192;</td>\n",
    "<td style=\"background: rgba(0,0,255,0.3); line-height: 36px; text-align: center\">Discretised Model</td>\n",
    "</tr>\n",
    "</table>\n",
    "\n",
    "1. **Preprocessing Phase**\n",
    "\n",
    "2. **Solution Phase**\n",
    "\n",
    "3. **Postprocessing Phase**"
   ]
  },
  {
   "cell_type": "markdown",
   "metadata": {
    "slideshow": {
     "slide_type": "slide"
    }
   },
   "source": [
    "## 1. Preprocessing Phase\n",
    "\n",
    "<img align=\"right\" width=\"30%\" src=\"https://upload.wikimedia.org/wikipedia/commons/8/80/Example_of_2D_mesh.png\">\n",
    "\n",
    "1. Discretize the problem domain, choose element type and interpolation functions\n",
    "2. Assume solution that approximates the element behavior\n",
    "3. Derive element stiffness matrix and element force equations\n",
    "4. Assemble element equations into global equations\n",
    "5. Introduce boundary conditions"
   ]
  },
  {
   "cell_type": "markdown",
   "metadata": {
    "slideshow": {
     "slide_type": "subslide"
    }
   },
   "source": [
    "## Examples of FEM element types - 1D, 2D, 3D\n",
    "\n",
    "- 1D line elements: spring, truss, beam, etc.\n",
    "- 2D plane elements: membrane, plate, shell, etc.\n",
    "- 3D solid elements: for 3D fields e.g. temperature, displacement, stress, flow\n",
    "\n",
    "<table style=\"border:none; border-spacing: 10px; border-collapse: separate\">\n",
    "<tr>\n",
    "<td><img src=\"images/fem-1d.png\" width=\"80%\"></td>\n",
    "<td><img src=\"images/fem-2d.png\" width=\"80%\"></td>\n",
    "<td><img src=\"images/fem-3d.png\" width=\"80%\"></td>\n",
    "</tr>\n",
    "<tr>\n",
    "</td>\n",
    "</table>"
   ]
  },
  {
   "cell_type": "markdown",
   "metadata": {
    "slideshow": {
     "slide_type": "slide"
    }
   },
   "source": [
    "## 2. Solution Phase\n",
    "\n",
    "1. Solve for the unknown degrees of freedom\n",
    "2. Back-substitute to compute additional derived quantities such as reaction forces"
   ]
  },
  {
   "cell_type": "markdown",
   "metadata": {
    "slideshow": {
     "slide_type": "slide"
    }
   },
   "source": [
    "## 3. Postprocessing Phase\n",
    "\n",
    "<img align = \"right\" width=\"30%\" src=\"https://upload.wikimedia.org/wikipedia/commons/7/7b/FEM_example_of_2D_solution.png\">\n",
    "\n",
    "1. Find element strains and stresses and other important information\n",
    "2. Interpret results\n",
    "\n"
   ]
  },
  {
   "cell_type": "markdown",
   "metadata": {
    "slideshow": {
     "slide_type": "slide"
    }
   },
   "source": [
    "## Example - 1D elastic bar\n",
    "\n",
    "Governing differential equation \n",
    "$$\n",
    "\\frac{\\mathrm{d}}{\\mathrm{d}x}\\left[ EA \\frac{\\mathrm{d}u}{\\mathrm{d}x} \\right] + f(x) = 0\n",
    "$$\n",
    "with boundary conditions $u(0)=0, \\left. EA \\frac{\\mathrm{d}u}{\\mathrm{d}x}\\right|_{x=L}=0$. If $E$ and $A$ are constant this is a special case of general FE equation with $a  = EA$ and $b = f(x)$. \n",
    "\n",
    "The problem can be recast as finite element problem $\\boldsymbol{K} \\boldsymbol{u} = \\boldsymbol{b}$ where $\\boldsymbol{K}$ is global stiffness matrix, and $\\boldsymbol{u}$ and $\\boldsymbol{b}$ are global displacement and force vectors, respectively."
   ]
  },
  {
   "cell_type": "markdown",
   "metadata": {
    "slideshow": {
     "slide_type": "subslide"
    }
   },
   "source": [
    "## 1.1 Preprocessing - defining a mesh\n",
    "\n",
    "We will create a mesh of length $L$ with a prescribed number of cells (elements) $n_{\\text{cells}}$. For linear elements, the number of nodes $n_{\\text{nodes}}$ is equal to $n_{\\text{cells}} + 1$. We use an array of equally spaced points on the interval $[0, L]$ at intervals of $h=L/n_\\text{cells}$."
   ]
  },
  {
   "cell_type": "code",
   "execution_count": 5,
   "metadata": {
    "collapsed": false
   },
   "outputs": [
    {
     "data": {
      "text/html": [
       "<script src=\"/opt/julia_packages/.julia/v0.6/Plots/src/backends/../../deps/plotly-latest.min.js\"></script>    <div id=\"c6842c64-a0c1-4131-96bf-ed301baadd01\" style=\"width:600px;height:200px;\"></div>\n",
       "    <script>\n",
       "    PLOT = document.getElementById('c6842c64-a0c1-4131-96bf-ed301baadd01');\n",
       "    Plotly.plot(PLOT, [{\"xaxis\":\"x\",\"colorbar\":{\"title\":\"\"},\"yaxis\":\"y\",\"x\":[0.0,1.0,2.0,3.0,4.0,5.0,6.0,7.0,8.0,9.0,10.0],\"showlegend\":true,\"mode\":\"lines+markers\",\"name\":\"y1\",\"marker\":{\"symbol\":\"octagon\",\"color\":\"rgba(0, 154, 250, 1.000)\",\"line\":{\"color\":\"rgba(0, 0, 0, 1.000)\",\"width\":1},\"size\":20},\"line\":{\"color\":\"rgba(0, 154, 250, 1.000)\",\"shape\":\"linear\",\"dash\":\"solid\",\"width\":5},\"y\":[0.0,0.0,0.0,0.0,0.0,0.0,0.0,0.0,0.0,0.0,0.0],\"type\":\"scatter\"}], {\"showlegend\":false,\"xaxis\":{\"tickvals\":[0.0,5.0,10.0],\"ticks\":\"inside\",\"tickmode\":\"array\",\"domain\":[0.0658209390492855,0.9934383202099738],\"linecolor\":\"rgba(0, 0, 0, 1.000)\",\"showgrid\":false,\"title\":\"\",\"tickangle\":0,\"titlefont\":{\"color\":\"rgba(0, 0, 0, 1.000)\",\"family\":\"sans-serif\",\"size\":15},\"tickcolor\":\"rgba(0, 0, 0, 1.000)\",\"ticktext\":[\"0\",\"5\",\"10\"],\"zeroline\":false,\"type\":\"-\",\"tickfont\":{\"color\":\"rgba(0, 0, 0, 1.000)\",\"family\":\"sans-serif\",\"size\":11},\"anchor\":\"y\"},\"paper_bgcolor\":\"rgba(255, 255, 255, 1.000)\",\"annotations\":[],\"height\":200,\"margin\":{\"l\":0,\"b\":20,\"r\":0,\"t\":20},\"plot_bgcolor\":\"rgba(255, 255, 255, 1.000)\",\"yaxis\":{\"tickvals\":[-1.0,-0.5,0.0,0.5,1.0],\"ticks\":\"inside\",\"range\":[-1.0,1.0],\"domain\":[0.07524059492563431,0.9803149606299212],\"tickmode\":\"array\",\"linecolor\":\"rgba(0, 0, 0, 1.000)\",\"showgrid\":false,\"title\":\"\",\"tickangle\":0,\"titlefont\":{\"color\":\"rgba(0, 0, 0, 1.000)\",\"family\":\"sans-serif\",\"size\":15},\"tickcolor\":\"rgba(0, 0, 0, 1.000)\",\"ticktext\":[\"-1.0\",\"-0.5\",\"0.0\",\"0.5\",\"1.0\"],\"zeroline\":false,\"type\":\"-\",\"tickfont\":{\"color\":\"rgba(0, 0, 0, 1.000)\",\"family\":\"sans-serif\",\"size\":11},\"anchor\":\"x\"},\"width\":600});\n",
       "    </script>\n"
      ]
     },
     "execution_count": 5,
     "metadata": {},
     "output_type": "execute_result"
    }
   ],
   "source": [
    "L = 10.0\n",
    "n_cells = 10\n",
    "n_nodes = n_cells + 1\n",
    "h = L/n_cells\n",
    "\n",
    "mesh = linspace(0.0, L, n_nodes)\n",
    "plot(mesh, zeros(mesh), marker=:o, ms=10, lw=5, ylims=(-1,1), \n",
    "     grid=false, legend=false, size=(600, 200))"
   ]
  },
  {
   "cell_type": "markdown",
   "metadata": {
    "slideshow": {
     "slide_type": "subslide"
    }
   },
   "source": [
    "## 1.2 Approximate model for element behaviour\n",
    "\n",
    "<img align=\"right\" width=\"40%\" src=\"images/spring-element.png\">\n",
    "\n",
    "- Model each element as an elastic spring of natural length $h$ \n",
    "- Each spring has two nodal displacements, $u_1$ and $u_2$. \n",
    "- The force-extension relation is given by constitutive equation\n",
    "$$\n",
    "  \\sigma = E \\epsilon = E \\frac{\\mathrm{d}u}{\\mathrm{d}x}\n",
    "$$"
   ]
  },
  {
   "cell_type": "markdown",
   "metadata": {
    "slideshow": {
     "slide_type": "subslide"
    }
   },
   "source": [
    "## 1.2 Approximate model for element behaviour\n",
    "\n",
    "- Spring force can be obtained using Hooke's Law\n",
    "$$\n",
    "f = k \\delta = k (u_2 - u_1)\n",
    "$$\n",
    "Using $\\sigma = E\\epsilon$ gives\n",
    "$$\n",
    "\\frac{f}{A} = E \\frac{\\delta}{h} \\implies f = \\left(\\frac{EA}{h} \\right) \\frac{\\mathrm{d}u}{\\mathrm{d}x}\n",
    "\\implies k = \\frac{EA}{h}\n",
    "$$"
   ]
  },
  {
   "cell_type": "markdown",
   "metadata": {
    "slideshow": {
     "slide_type": "subslide"
    }
   },
   "source": [
    "## 1.3 Element stiffness matrix $\\boldsymbol{k}_{e}$\n",
    "\n",
    "\n",
    "- Could obtain $\\boldsymbol{k}_e$ using integral formula, but we'll use a physical argument. In equilibrium, $f_1 + f_2 = 0$ i.e.\n",
    "$$\n",
    "f_1 = -k (u_2 - u_1) \\;\\text{and}\\;\n",
    "f_2 = k (u_2 - u_1)\n",
    "$$\n",
    "\n",
    "- In matrix form: $\\boldsymbol{k}_e \\boldsymbol{u}_e = \\boldsymbol{f}_e$ with element stiffness matrix\n",
    "\n",
    "$$\n",
    "\\boldsymbol{k}_{e} =\n",
    "\\begin{bmatrix}\n",
    "k & -k \\\\ -k & k    \n",
    "\\end{bmatrix}\n",
    "= \\frac{EA}{h}\n",
    "\\begin{bmatrix}\n",
    "1 & -1 \\\\ -1 & 1    \n",
    "\\end{bmatrix}\n",
    "$$"
   ]
  },
  {
   "cell_type": "code",
   "execution_count": 6,
   "metadata": {
    "collapsed": false
   },
   "outputs": [],
   "source": [
    "E = 100.0\n",
    "A = 1.0\n",
    "k_e = (E*A/h)*[1 -1; \n",
    "              -1  1];"
   ]
  },
  {
   "cell_type": "markdown",
   "metadata": {
    "slideshow": {
     "slide_type": "subslide"
    }
   },
   "source": [
    "## 1.4 Assemble global stiffness matrix\n",
    "\n",
    "- To build the global stiffness matrix $\\boldsymbol{K}$, we create an empty $n_{\\text{nodes}} \\times n_{\\text{nodes}}$ matrix\n",
    "\n",
    "- Then loop over each cell and add the cell contribution $\\boldsymbol{k}_{e}$ to the the global matrix $\\boldsymbol{K}$"
   ]
  },
  {
   "cell_type": "code",
   "execution_count": 7,
   "metadata": {
    "collapsed": false
   },
   "outputs": [],
   "source": [
    "K = zeros(n_nodes, n_nodes)\n",
    "\n",
    "for element in 1:n_cells\n",
    "    K[element:element + 1, element:element + 1] += k_e\n",
    "end"
   ]
  },
  {
   "cell_type": "code",
   "execution_count": 8,
   "metadata": {
    "collapsed": false,
    "slideshow": {
     "slide_type": "subslide"
    }
   },
   "outputs": [
    {
     "data": {
      "text/html": [
       "<script src=\"/opt/julia_packages/.julia/v0.6/Plots/src/backends/../../deps/plotly-latest.min.js\"></script>    <div id=\"40adc005-72d7-4f5f-8a39-bd911fd64125\" style=\"width:600px;height:400px;\"></div>\n",
       "    <script>\n",
       "    PLOT = document.getElementById('40adc005-72d7-4f5f-8a39-bd911fd64125');\n",
       "    Plotly.plot(PLOT, [{\"xaxis\":\"x\",\"colorbar\":{\"title\":\"\"},\"colorscale\":[[0.0,\"rgb(0, 0, 4)\"],[0.034482758620689655,\"rgb(4, 3, 20)\"],[0.06896551724137931,\"rgb(13, 8, 41)\"],[0.10344827586206896,\"rgb(24, 12, 60)\"],[0.13793103448275862,\"rgb(38, 12, 81)\"],[0.1724137931034483,\"rgb(54, 9, 97)\"],[0.20689655172413793,\"rgb(69, 10, 105)\"],[0.2413793103448276,\"rgb(84, 15, 109)\"],[0.27586206896551724,\"rgb(97, 19, 110)\"],[0.3103448275862069,\"rgb(111, 25, 110)\"],[0.3448275862068966,\"rgb(125, 30, 109)\"],[0.3793103448275862,\"rgb(140, 35, 105)\"],[0.41379310344827586,\"rgb(154, 40, 101)\"],[0.4482758620689655,\"rgb(166, 45, 96)\"],[0.4827586206896552,\"rgb(180, 51, 89)\"],[0.5172413793103449,\"rgb(193, 58, 80)\"],[0.5517241379310345,\"rgb(206, 67, 71)\"],[0.5862068965517241,\"rgb(216, 76, 62)\"],[0.6206896551724138,\"rgb(226, 87, 52)\"],[0.6551724137931034,\"rgb(235, 100, 41)\"],[0.6896551724137931,\"rgb(241, 115, 29)\"],[0.7241379310344828,\"rgb(247, 130, 18)\"],[0.7586206896551724,\"rgb(250, 144, 8)\"],[0.7931034482758621,\"rgb(252, 161, 8)\"],[0.8275862068965517,\"rgb(252, 178, 22)\"],[0.8620689655172413,\"rgb(250, 196, 42)\"],[0.896551724137931,\"rgb(246, 213, 67)\"],[0.9310344827586207,\"rgb(243, 229, 93)\"],[0.9655172413793104,\"rgb(242, 244, 130)\"],[1.0,\"rgb(252, 255, 164)\"]],\"yaxis\":\"y\",\"showscale\":true,\"x\":[1,2,3,4,5,6,7,8,9,10,11],\"showlegend\":false,\"name\":\"y1\",\"z\":[[100.0,-100.0,0.0,0.0,0.0,0.0,0.0,0.0,0.0,0.0,0.0],[-100.0,200.0,-100.0,0.0,0.0,0.0,0.0,0.0,0.0,0.0,0.0],[0.0,-100.0,200.0,-100.0,0.0,0.0,0.0,0.0,0.0,0.0,0.0],[0.0,0.0,-100.0,200.0,-100.0,0.0,0.0,0.0,0.0,0.0,0.0],[0.0,0.0,0.0,-100.0,200.0,-100.0,0.0,0.0,0.0,0.0,0.0],[0.0,0.0,0.0,0.0,-100.0,200.0,-100.0,0.0,0.0,0.0,0.0],[0.0,0.0,0.0,0.0,0.0,-100.0,200.0,-100.0,0.0,0.0,0.0],[0.0,0.0,0.0,0.0,0.0,0.0,-100.0,200.0,-100.0,0.0,0.0],[0.0,0.0,0.0,0.0,0.0,0.0,0.0,-100.0,200.0,-100.0,0.0],[0.0,0.0,0.0,0.0,0.0,0.0,0.0,0.0,-100.0,200.0,-100.0],[0.0,0.0,0.0,0.0,0.0,0.0,0.0,0.0,0.0,-100.0,100.0]],\"y\":[1,2,3,4,5,6,7,8,9,10,11],\"type\":\"heatmap\"}], {\"showlegend\":true,\"xaxis\":{\"tickvals\":[2.0,4.0,6.0,8.0,10.0],\"ticks\":\"inside\",\"tickmode\":\"array\",\"domain\":[0.03619130941965587,0.9934383202099738],\"linecolor\":\"rgba(0, 0, 0, 1.000)\",\"showgrid\":true,\"title\":\"\",\"tickangle\":0,\"titlefont\":{\"color\":\"rgba(0, 0, 0, 1.000)\",\"family\":\"sans-serif\",\"size\":15},\"tickcolor\":\"rgba(0, 0, 0, 1.000)\",\"ticktext\":[\"2\",\"4\",\"6\",\"8\",\"10\"],\"zeroline\":false,\"type\":\"-\",\"tickfont\":{\"color\":\"rgba(0, 0, 0, 1.000)\",\"family\":\"sans-serif\",\"size\":11},\"anchor\":\"y\"},\"paper_bgcolor\":\"rgba(255, 255, 255, 1.000)\",\"annotations\":[],\"height\":400,\"margin\":{\"l\":0,\"b\":20,\"r\":0,\"t\":20},\"plot_bgcolor\":\"rgba(255, 255, 255, 1.000)\",\"yaxis\":{\"tickvals\":[2.0,4.0,6.0,8.0,10.0],\"ticks\":\"inside\",\"tickmode\":\"array\",\"domain\":[0.03762029746281716,0.9901574803149606],\"linecolor\":\"rgba(0, 0, 0, 1.000)\",\"autorange\":\"reversed\",\"showgrid\":true,\"title\":\"\",\"tickangle\":0,\"titlefont\":{\"color\":\"rgba(0, 0, 0, 1.000)\",\"family\":\"sans-serif\",\"size\":15},\"tickcolor\":\"rgba(0, 0, 0, 1.000)\",\"ticktext\":[\"2\",\"4\",\"6\",\"8\",\"10\"],\"zeroline\":false,\"type\":\"-\",\"tickfont\":{\"color\":\"rgba(0, 0, 0, 1.000)\",\"family\":\"sans-serif\",\"size\":11},\"anchor\":\"x\"},\"legend\":{\"bordercolor\":\"rgba(0, 0, 0, 1.000)\",\"bgcolor\":\"rgba(255, 255, 255, 1.000)\",\"font\":{\"color\":\"rgba(0, 0, 0, 1.000)\",\"family\":\"sans-serif\",\"size\":11},\"y\":1.0,\"x\":1.0},\"width\":600});\n",
       "    </script>\n"
      ]
     },
     "execution_count": 8,
     "metadata": {},
     "output_type": "execute_result"
    }
   ],
   "source": [
    "heatmap(K, yflip=true)"
   ]
  },
  {
   "cell_type": "markdown",
   "metadata": {
    "slideshow": {
     "slide_type": "subslide"
    }
   },
   "source": [
    "## 1.4 Create force vector $\\boldsymbol{b}$\n",
    "\n",
    "- Distributed load $f(x)$ can vary with position\n",
    "- Create global RHS vector $\\boldsymbol{b}$ by adding the cell $\\boldsymbol{b}_{e}$ \n",
    "- Integrate RHS using the midpoint rule\n",
    "$$\n",
    "\\boldsymbol{b}_e = \\left(\\begin{array}{c}\n",
    "\\int_{x_{i}}^{x_{i+1}} N_{1}(x) f(x) \\,\\mathrm{d}x \\\\\n",
    "\\int_{x_{i}}^{x_{i+1}} N_{2}(x) f(x) \\,\\mathrm{d}x\n",
    "\\end{array}\n",
    "\\right) \\approx\n",
    "\\left(\\begin{array}{c}\n",
    "\\frac{h}{2}f\\left((x_{i} + x_{i+1})/2\\right) \\\\\n",
    "\\frac{h}{2}f\\left((x_{i} + x_{i+1})/2\\right) \\\\\n",
    "\\end{array}\n",
    "\\right)\n",
    "$$"
   ]
  },
  {
   "cell_type": "code",
   "execution_count": 9,
   "metadata": {
    "collapsed": false
   },
   "outputs": [],
   "source": [
    "distributed_load(x) = 1.0 # function for loading, here constant ∀ x\n",
    "b = zeros(n_nodes)\n",
    "for element in 1:n_cells\n",
    "    h     = mesh[element+1] - mesh[element]   \n",
    "    x_mid = (mesh[element+1] + mesh[element])/2.0    \n",
    "    f = distributed_load(x_mid)\n",
    "    b[element:element + 1] += 0.5*h*f\n",
    "end"
   ]
  },
  {
   "cell_type": "markdown",
   "metadata": {
    "slideshow": {
     "slide_type": "subslide"
    }
   },
   "source": [
    "## 1.5 Apply Dirichlet boundary conditions\n",
    "\n",
    "- Almost ready to solve problem, but stiffness matrix is singular:"
   ]
  },
  {
   "cell_type": "code",
   "execution_count": 10,
   "metadata": {
    "collapsed": false
   },
   "outputs": [
    {
     "data": {
      "text/plain": [
       "0.0"
      ]
     },
     "execution_count": 10,
     "metadata": {},
     "output_type": "execute_result"
    }
   ],
   "source": [
    "det(K)"
   ]
  },
  {
   "cell_type": "markdown",
   "metadata": {
    "slideshow": {
     "slide_type": "-"
    }
   },
   "source": [
    "- We have not applied a Dirichlet (displacement) boundary condition\n",
    "\n",
    "- Impose boundary condition $u(0) = 0$ by zeroing the first row and column of the matrix, placing a one on the first diagonal entry and setting the first entry on the RHS to zero. "
   ]
  },
  {
   "cell_type": "code",
   "execution_count": 11,
   "metadata": {
    "collapsed": false
   },
   "outputs": [
    {
     "data": {
      "text/plain": [
       "9.999999999999982e19"
      ]
     },
     "execution_count": 11,
     "metadata": {},
     "output_type": "execute_result"
    }
   ],
   "source": [
    "K[1, :] = 0.0\n",
    "K[:, 1] = 0.0\n",
    "K[1, 1] = 1.0\n",
    "b[1] = 0.0\n",
    "det(K)"
   ]
  },
  {
   "cell_type": "code",
   "execution_count": 12,
   "metadata": {
    "collapsed": false,
    "slideshow": {
     "slide_type": "subslide"
    }
   },
   "outputs": [
    {
     "data": {
      "text/html": [
       "<script src=\"/opt/julia_packages/.julia/v0.6/Plots/src/backends/../../deps/plotly-latest.min.js\"></script>    <div id=\"fb479a2c-f3a7-470e-82c3-d07f1f5132fb\" style=\"width:600px;height:400px;\"></div>\n",
       "    <script>\n",
       "    PLOT = document.getElementById('fb479a2c-f3a7-470e-82c3-d07f1f5132fb');\n",
       "    Plotly.plot(PLOT, [{\"xaxis\":\"x\",\"colorbar\":{\"title\":\"\"},\"colorscale\":[[0.0,\"rgb(0, 0, 4)\"],[0.034482758620689655,\"rgb(4, 3, 20)\"],[0.06896551724137931,\"rgb(13, 8, 41)\"],[0.10344827586206896,\"rgb(24, 12, 60)\"],[0.13793103448275862,\"rgb(38, 12, 81)\"],[0.1724137931034483,\"rgb(54, 9, 97)\"],[0.20689655172413793,\"rgb(69, 10, 105)\"],[0.2413793103448276,\"rgb(84, 15, 109)\"],[0.27586206896551724,\"rgb(97, 19, 110)\"],[0.3103448275862069,\"rgb(111, 25, 110)\"],[0.3448275862068966,\"rgb(125, 30, 109)\"],[0.3793103448275862,\"rgb(140, 35, 105)\"],[0.41379310344827586,\"rgb(154, 40, 101)\"],[0.4482758620689655,\"rgb(166, 45, 96)\"],[0.4827586206896552,\"rgb(180, 51, 89)\"],[0.5172413793103449,\"rgb(193, 58, 80)\"],[0.5517241379310345,\"rgb(206, 67, 71)\"],[0.5862068965517241,\"rgb(216, 76, 62)\"],[0.6206896551724138,\"rgb(226, 87, 52)\"],[0.6551724137931034,\"rgb(235, 100, 41)\"],[0.6896551724137931,\"rgb(241, 115, 29)\"],[0.7241379310344828,\"rgb(247, 130, 18)\"],[0.7586206896551724,\"rgb(250, 144, 8)\"],[0.7931034482758621,\"rgb(252, 161, 8)\"],[0.8275862068965517,\"rgb(252, 178, 22)\"],[0.8620689655172413,\"rgb(250, 196, 42)\"],[0.896551724137931,\"rgb(246, 213, 67)\"],[0.9310344827586207,\"rgb(243, 229, 93)\"],[0.9655172413793104,\"rgb(242, 244, 130)\"],[1.0,\"rgb(252, 255, 164)\"]],\"yaxis\":\"y\",\"showscale\":true,\"x\":[1,2,3,4,5,6,7,8,9,10,11],\"showlegend\":false,\"name\":\"y1\",\"z\":[[1.0,0.0,0.0,0.0,0.0,0.0,0.0,0.0,0.0,0.0,0.0],[0.0,200.0,-100.0,0.0,0.0,0.0,0.0,0.0,0.0,0.0,0.0],[0.0,-100.0,200.0,-100.0,0.0,0.0,0.0,0.0,0.0,0.0,0.0],[0.0,0.0,-100.0,200.0,-100.0,0.0,0.0,0.0,0.0,0.0,0.0],[0.0,0.0,0.0,-100.0,200.0,-100.0,0.0,0.0,0.0,0.0,0.0],[0.0,0.0,0.0,0.0,-100.0,200.0,-100.0,0.0,0.0,0.0,0.0],[0.0,0.0,0.0,0.0,0.0,-100.0,200.0,-100.0,0.0,0.0,0.0],[0.0,0.0,0.0,0.0,0.0,0.0,-100.0,200.0,-100.0,0.0,0.0],[0.0,0.0,0.0,0.0,0.0,0.0,0.0,-100.0,200.0,-100.0,0.0],[0.0,0.0,0.0,0.0,0.0,0.0,0.0,0.0,-100.0,200.0,-100.0],[0.0,0.0,0.0,0.0,0.0,0.0,0.0,0.0,0.0,-100.0,100.0]],\"y\":[1,2,3,4,5,6,7,8,9,10,11],\"type\":\"heatmap\"}], {\"showlegend\":true,\"xaxis\":{\"tickvals\":[2.0,4.0,6.0,8.0,10.0],\"ticks\":\"inside\",\"tickmode\":\"array\",\"domain\":[0.03619130941965587,0.9934383202099738],\"linecolor\":\"rgba(0, 0, 0, 1.000)\",\"showgrid\":true,\"title\":\"\",\"tickangle\":0,\"titlefont\":{\"color\":\"rgba(0, 0, 0, 1.000)\",\"family\":\"sans-serif\",\"size\":15},\"tickcolor\":\"rgba(0, 0, 0, 1.000)\",\"ticktext\":[\"2\",\"4\",\"6\",\"8\",\"10\"],\"zeroline\":false,\"type\":\"-\",\"tickfont\":{\"color\":\"rgba(0, 0, 0, 1.000)\",\"family\":\"sans-serif\",\"size\":11},\"anchor\":\"y\"},\"paper_bgcolor\":\"rgba(255, 255, 255, 1.000)\",\"annotations\":[],\"height\":400,\"margin\":{\"l\":0,\"b\":20,\"r\":0,\"t\":20},\"plot_bgcolor\":\"rgba(255, 255, 255, 1.000)\",\"yaxis\":{\"tickvals\":[2.0,4.0,6.0,8.0,10.0],\"ticks\":\"inside\",\"tickmode\":\"array\",\"domain\":[0.03762029746281716,0.9901574803149606],\"linecolor\":\"rgba(0, 0, 0, 1.000)\",\"autorange\":\"reversed\",\"showgrid\":true,\"title\":\"\",\"tickangle\":0,\"titlefont\":{\"color\":\"rgba(0, 0, 0, 1.000)\",\"family\":\"sans-serif\",\"size\":15},\"tickcolor\":\"rgba(0, 0, 0, 1.000)\",\"ticktext\":[\"2\",\"4\",\"6\",\"8\",\"10\"],\"zeroline\":false,\"type\":\"-\",\"tickfont\":{\"color\":\"rgba(0, 0, 0, 1.000)\",\"family\":\"sans-serif\",\"size\":11},\"anchor\":\"x\"},\"legend\":{\"bordercolor\":\"rgba(0, 0, 0, 1.000)\",\"bgcolor\":\"rgba(255, 255, 255, 1.000)\",\"font\":{\"color\":\"rgba(0, 0, 0, 1.000)\",\"family\":\"sans-serif\",\"size\":11},\"y\":1.0,\"x\":1.0},\"width\":600});\n",
       "    </script>\n"
      ]
     },
     "execution_count": 12,
     "metadata": {},
     "output_type": "execute_result"
    }
   ],
   "source": [
    "heatmap(K, yflip=true)"
   ]
  },
  {
   "cell_type": "markdown",
   "metadata": {
    "slideshow": {
     "slide_type": "subslide"
    }
   },
   "source": [
    "## 2. Solve linear system of equations\n",
    "\n",
    "- Solve $\\boldsymbol{K} \\boldsymbol{u} = \\boldsymbol{b}$ to get the nodal degrees-of-freedom $\\boldsymbol{u}$.\n",
    "- Could invert matrix and use $\\boldsymbol{u}  = \\boldsymbol{K}^{-1} \\boldsymbol{b}$, but computationally cheaper and more robust to solve for specific RHS"
   ]
  },
  {
   "cell_type": "code",
   "execution_count": 13,
   "metadata": {
    "collapsed": false,
    "scrolled": true
   },
   "outputs": [
    {
     "name": "stdout",
     "output_type": "stream",
     "text": [
      "[0.0, 0.095, 0.18, 0.255, 0.32, 0.375, 0.42, 0.455, 0.48, 0.495, 0.5]\n"
     ]
    }
   ],
   "source": [
    "u = K \\ b\n",
    "println(u)"
   ]
  },
  {
   "cell_type": "markdown",
   "metadata": {},
   "source": [
    "- This is a direct solver for a dense matrix. $\\boldsymbol{K}$ is mostly zero, so a **sparse** linear algebra solver is usually used to reduce memory. \n",
    "- **Iterative** solvers such as adaptive multigrid methods further reduce computational cost."
   ]
  },
  {
   "cell_type": "markdown",
   "metadata": {
    "slideshow": {
     "slide_type": "subslide"
    }
   },
   "source": [
    "## 3. Post-processing: visualising the solution\n"
   ]
  },
  {
   "cell_type": "code",
   "execution_count": 14,
   "metadata": {
    "collapsed": false
   },
   "outputs": [
    {
     "data": {
      "text/html": [
       "<script src=\"/opt/julia_packages/.julia/v0.6/Plots/src/backends/../../deps/plotly-latest.min.js\"></script>    <div id=\"610b66a2-3286-4915-98e9-6ed996778bfa\" style=\"width:600px;height:400px;\"></div>\n",
       "    <script>\n",
       "    PLOT = document.getElementById('610b66a2-3286-4915-98e9-6ed996778bfa');\n",
       "    Plotly.plot(PLOT, [{\"xaxis\":\"x\",\"colorbar\":{\"title\":\"\"},\"yaxis\":\"y\",\"x\":[0.0,1.0,2.0,3.0,4.0,5.0,6.0,7.0,8.0,9.0,10.0],\"showlegend\":true,\"mode\":\"lines+markers\",\"name\":\"y1\",\"marker\":{\"symbol\":\"octagon\",\"color\":\"rgba(0, 154, 250, 1.000)\",\"line\":{\"color\":\"rgba(0, 0, 0, 1.000)\",\"width\":1},\"size\":8},\"line\":{\"color\":\"rgba(0, 154, 250, 1.000)\",\"shape\":\"linear\",\"dash\":\"solid\",\"width\":5},\"y\":[0.0,0.09500000000000014,0.18000000000000027,0.2550000000000004,0.3200000000000005,0.37500000000000056,0.42000000000000065,0.45500000000000074,0.4800000000000008,0.49500000000000083,0.5000000000000009],\"type\":\"scatter\"}], {\"showlegend\":false,\"xaxis\":{\"tickvals\":[0.0,5.0,10.0],\"ticks\":\"inside\",\"tickmode\":\"array\",\"domain\":[0.07646908719743364,0.9934383202099737],\"linecolor\":\"rgba(0, 0, 0, 1.000)\",\"showgrid\":false,\"title\":\"x\",\"tickangle\":0,\"titlefont\":{\"color\":\"rgba(0, 0, 0, 1.000)\",\"family\":\"sans-serif\",\"size\":15},\"tickcolor\":\"rgba(0, 0, 0, 1.000)\",\"ticktext\":[\"0\",\"5\",\"10\"],\"zeroline\":false,\"type\":\"-\",\"tickfont\":{\"color\":\"rgba(0, 0, 0, 1.000)\",\"family\":\"sans-serif\",\"size\":11},\"anchor\":\"y\"},\"paper_bgcolor\":\"rgba(255, 255, 255, 1.000)\",\"annotations\":[{\"yanchor\":\"top\",\"xanchor\":\"center\",\"rotation\":-0.0,\"y\":1.0,\"font\":{\"color\":\"rgba(0, 0, 0, 1.000)\",\"family\":\"sans-serif\",\"size\":20},\"yref\":\"paper\",\"showarrow\":false,\"text\":\"Finite element solution for the elastic bar\",\"xref\":\"paper\",\"x\":0.5349537037037038}],\"height\":400,\"margin\":{\"l\":0,\"b\":20,\"r\":0,\"t\":20},\"plot_bgcolor\":\"rgba(255, 255, 255, 1.000)\",\"yaxis\":{\"tickvals\":[0.0,0.2,0.4],\"ticks\":\"inside\",\"tickmode\":\"array\",\"domain\":[0.07581474190726165,0.9415463692038496],\"linecolor\":\"rgba(0, 0, 0, 1.000)\",\"showgrid\":false,\"title\":\"u\",\"tickangle\":0,\"titlefont\":{\"color\":\"rgba(0, 0, 0, 1.000)\",\"family\":\"sans-serif\",\"size\":15},\"tickcolor\":\"rgba(0, 0, 0, 1.000)\",\"ticktext\":[\"0.0\",\"0.2\",\"0.4\"],\"zeroline\":false,\"type\":\"-\",\"tickfont\":{\"color\":\"rgba(0, 0, 0, 1.000)\",\"family\":\"sans-serif\",\"size\":11},\"anchor\":\"x\"},\"width\":600});\n",
       "    </script>\n"
      ]
     },
     "execution_count": 14,
     "metadata": {},
     "output_type": "execute_result"
    }
   ],
   "source": [
    "plot(mesh, u, marker=:o, xlabel=:x, lw=5, ylabel=:u, leg=false, \n",
    "     grid=false, title=\"Finite element solution for the elastic bar\")"
   ]
  },
  {
   "cell_type": "markdown",
   "metadata": {
    "slideshow": {
     "slide_type": "subslide"
    }
   },
   "source": [
    "## Derived nodal quantities\n",
    "\n",
    "Now we have the displacements $u$, can compute strain $\\epsilon = \\delta/l$ and stress $\\sigma = E \\epsilon$ for each node."
   ]
  },
  {
   "cell_type": "code",
   "execution_count": 15,
   "metadata": {
    "collapsed": false
   },
   "outputs": [
    {
     "data": {
      "text/html": [
       "<script src=\"/opt/julia_packages/.julia/v0.6/Plots/src/backends/../../deps/plotly-latest.min.js\"></script>    <div id=\"69fbc677-e251-4458-a7fa-2e5bd70a84a4\" style=\"width:600px;height:300px;\"></div>\n",
       "    <script>\n",
       "    PLOT = document.getElementById('69fbc677-e251-4458-a7fa-2e5bd70a84a4');\n",
       "    Plotly.plot(PLOT, [{\"xaxis\":\"x\",\"colorbar\":{\"title\":\"\"},\"yaxis\":\"y\",\"x\":[0.0,1.0,2.0,3.0,4.0,5.0,6.0,7.0,8.0,9.0],\"showlegend\":true,\"mode\":\"lines+markers\",\"name\":\"y1\",\"marker\":{\"symbol\":\"octagon\",\"color\":\"rgba(0, 154, 250, 1.000)\",\"line\":{\"color\":\"rgba(0, 0, 0, 1.000)\",\"width\":1},\"size\":8},\"line\":{\"color\":\"rgba(0, 154, 250, 1.000)\",\"shape\":\"linear\",\"dash\":\"solid\",\"width\":3},\"y\":[0.09500000000000014,0.08500000000000013,0.07500000000000012,0.06500000000000011,0.05500000000000005,0.045000000000000095,0.03500000000000009,0.025000000000000078,0.015000000000000013,0.00500000000000006],\"type\":\"scatter\"},{\"xaxis\":\"x2\",\"colorbar\":{\"title\":\"\"},\"yaxis\":\"y2\",\"x\":[0.0,1.0,2.0,3.0,4.0,5.0,6.0,7.0,8.0,9.0],\"showlegend\":true,\"mode\":\"lines+markers\",\"name\":\"y2\",\"marker\":{\"symbol\":\"octagon\",\"color\":\"rgba(0, 154, 250, 1.000)\",\"line\":{\"color\":\"rgba(0, 0, 0, 1.000)\",\"width\":1},\"size\":8},\"line\":{\"color\":\"rgba(0, 154, 250, 1.000)\",\"shape\":\"linear\",\"dash\":\"solid\",\"width\":3},\"y\":[9.500000000000014,8.500000000000012,7.500000000000012,6.5000000000000115,5.500000000000005,4.50000000000001,3.500000000000009,2.500000000000008,1.5000000000000013,0.500000000000006],\"type\":\"scatter\"}], {\"xaxis\":{\"tickvals\":[0.0,2.0,4.0,6.0,8.0],\"ticks\":\"inside\",\"tickmode\":\"array\",\"domain\":[0.10609871682706327,0.5082531350247885],\"linecolor\":\"rgba(0, 0, 0, 1.000)\",\"showgrid\":true,\"title\":\"x\",\"tickangle\":0,\"titlefont\":{\"color\":\"rgba(0, 0, 0, 1.000)\",\"family\":\"sans-serif\",\"size\":15},\"tickcolor\":\"rgba(0, 0, 0, 1.000)\",\"ticktext\":[\"0\",\"2\",\"4\",\"6\",\"8\"],\"zeroline\":false,\"type\":\"-\",\"tickfont\":{\"color\":\"rgba(0, 0, 0, 1.000)\",\"family\":\"sans-serif\",\"size\":11},\"anchor\":\"y\"},\"paper_bgcolor\":\"rgba(255, 255, 255, 1.000)\",\"height\":300,\"yaxis\":{\"tickvals\":[0.025,0.05,0.07500000000000001],\"ticks\":\"inside\",\"tickmode\":\"array\",\"domain\":[0.10108632254301551,0.9868766404199475],\"linecolor\":\"rgba(0, 0, 0, 1.000)\",\"showgrid\":true,\"title\":\"Strain\",\"tickangle\":0,\"titlefont\":{\"color\":\"rgba(0, 0, 0, 1.000)\",\"family\":\"sans-serif\",\"size\":15},\"tickcolor\":\"rgba(0, 0, 0, 1.000)\",\"ticktext\":[\"0.025\",\"0.050\",\"0.075\"],\"zeroline\":false,\"type\":\"-\",\"tickfont\":{\"color\":\"rgba(0, 0, 0, 1.000)\",\"family\":\"sans-serif\",\"size\":11},\"anchor\":\"x\"},\"yaxis2\":{\"tickvals\":[2.5,5.0,7.5],\"ticks\":\"inside\",\"tickmode\":\"array\",\"domain\":[0.10108632254301551,0.9868766404199475],\"linecolor\":\"rgba(0, 0, 0, 1.000)\",\"showgrid\":true,\"title\":\"Stress\",\"tickangle\":0,\"titlefont\":{\"color\":\"rgba(0, 0, 0, 1.000)\",\"family\":\"sans-serif\",\"size\":15},\"tickcolor\":\"rgba(0, 0, 0, 1.000)\",\"ticktext\":[\"2.5\",\"5.0\",\"7.5\"],\"zeroline\":false,\"type\":\"-\",\"tickfont\":{\"color\":\"rgba(0, 0, 0, 1.000)\",\"family\":\"sans-serif\",\"size\":11},\"anchor\":\"x2\"},\"annotations\":[],\"plot_bgcolor\":\"rgba(255, 255, 255, 1.000)\",\"showlegend\":false,\"xaxis2\":{\"tickvals\":[0.0,2.0,4.0,6.0,8.0],\"ticks\":\"inside\",\"tickmode\":\"array\",\"domain\":[0.5912839020122485,0.9934383202099737],\"linecolor\":\"rgba(0, 0, 0, 1.000)\",\"showgrid\":true,\"title\":\"x\",\"tickangle\":0,\"titlefont\":{\"color\":\"rgba(0, 0, 0, 1.000)\",\"family\":\"sans-serif\",\"size\":15},\"tickcolor\":\"rgba(0, 0, 0, 1.000)\",\"ticktext\":[\"0\",\"2\",\"4\",\"6\",\"8\"],\"zeroline\":false,\"type\":\"-\",\"tickfont\":{\"color\":\"rgba(0, 0, 0, 1.000)\",\"family\":\"sans-serif\",\"size\":11},\"anchor\":\"y2\"},\"margin\":{\"l\":0,\"b\":20,\"r\":0,\"t\":20},\"width\":600});\n",
       "    </script>\n"
      ]
     },
     "execution_count": 15,
     "metadata": {},
     "output_type": "execute_result"
    }
   ],
   "source": [
    "ϵ = (u[2:end] - u[1:end-1]) / h\n",
    "σ = E * ϵ\n",
    "\n",
    "plot(mesh[1:end-1], [ϵ σ], layout=2, legend=false, size=(600,300),\n",
    "     ylabel=[:Strain :Stress], xlabel=:x, marker=:o, lw=3)"
   ]
  },
  {
   "cell_type": "markdown",
   "metadata": {
    "slideshow": {
     "slide_type": "subslide"
    }
   },
   "source": [
    "## Programmatic approach"
   ]
  },
  {
   "cell_type": "code",
   "execution_count": 22,
   "metadata": {
    "collapsed": false
   },
   "outputs": [
    {
     "name": "stderr",
     "output_type": "stream",
     "text": [
      "\u001b[1m\u001b[36mINFO: \u001b[39m\u001b[22m\u001b[36mPackage QuadGK is already installed\n",
      "\u001b[39m"
     ]
    },
    {
     "data": {
      "text/plain": [
       "solver (generic function with 1 method)"
      ]
     },
     "execution_count": 22,
     "metadata": {},
     "output_type": "execute_result"
    }
   ],
   "source": [
    "function solver(L, f, n_cells; quad_degree=3)\n",
    "    n_nodes = n_cells + 1\n",
    "    mesh = linspace(0.0, L, n_nodes)\n",
    "    h = L/n_cells\n",
    "    k_e = (E*A/h)*[ 1 -1; -1 1]\n",
    "    K = zeros(n_nodes, n_nodes)\n",
    "    for element in 1:n_cells\n",
    "        K[element:element + 1, element:element + 1] += k_e\n",
    "    end\n",
    "    quad_points, quad_weights = gauss(Float64, quad_degree)\n",
    "    b = zeros(n_nodes)\n",
    "    for element in 1:n_cells\n",
    "        x_mid = (mesh[element + 1] + mesh[element])/2.0    \n",
    "        for (zeta, weight) in zip(quad_points, quad_weights)    \n",
    "            x = x_mid + zeta*h/2.0\n",
    "            w = weight*(h/2.0)\n",
    "            b[element] += w*(0.5 - zeta/2.0)*f(x) \n",
    "            b[element + 1] += w*(0.5 + zeta/2.0)*f(x)\n",
    "        end\n",
    "    end\n",
    "    K[1, :], K[:, 1], K[1, 1] = 0.0, 0.0, 1.0\n",
    "    b[1] = 0.0\n",
    "    return K \\ b, mesh\n",
    "end"
   ]
  },
  {
   "cell_type": "markdown",
   "metadata": {
    "slideshow": {
     "slide_type": "slide"
    }
   },
   "source": [
    "## Sources of error\n",
    " \n",
    "- Domain approximation error due to mesh\n",
    "- Computational errors due to quadrature and finite arithmetic\n",
    "- Approximation errors due to piecewise linear solution\n",
    "- Two methods of refinement:\n",
    "    - **$h$-refinement**, where we increase the number of elements in the domain\n",
    "    - **$p$-refinement**, where the element size is unchanged but accuracy of numerical integration is increased"
   ]
  },
  {
   "cell_type": "markdown",
   "metadata": {
    "slideshow": {
     "slide_type": "subslide"
    }
   },
   "source": [
    "## Mesh spacing refinement\n",
    "\n",
    "Compute solutions for increasingly fine meshes with $f(x) = \\sin(x)$"
   ]
  },
  {
   "cell_type": "code",
   "execution_count": 23,
   "metadata": {
    "collapsed": false,
    "slideshow": {
     "slide_type": "-"
    }
   },
   "outputs": [
    {
     "data": {
      "text/html": [
       "<script src=\"/opt/julia_packages/.julia/v0.6/Plots/src/backends/../../deps/plotly-latest.min.js\"></script>    <div id=\"c96ec1dd-8574-45ab-8e0e-7a82ea683551\" style=\"width:600px;height:300px;\"></div>\n",
       "    <script>\n",
       "    PLOT = document.getElementById('c96ec1dd-8574-45ab-8e0e-7a82ea683551');\n",
       "    Plotly.plot(PLOT, [{\"xaxis\":\"x\",\"colorbar\":{\"title\":\"\"},\"yaxis\":\"y\",\"x\":[0.0,3.3333333333333335,6.666666666666667,10.0],\"showlegend\":true,\"mode\":\"lines+markers\",\"name\":\"3 cells\",\"marker\":{\"symbol\":\"octagon\",\"color\":\"rgba(0, 154, 250, 1.000)\",\"line\":{\"color\":\"rgba(0, 0, 0, 1.000)\",\"width\":1},\"size\":10},\"line\":{\"color\":\"rgba(0, 154, 250, 1.000)\",\"shape\":\"linear\",\"dash\":\"solid\",\"width\":3},\"y\":[0.0,0.026104570324994133,0.05971469201350648,0.07858880437283958],\"type\":\"scatter\"},{\"xaxis\":\"x\",\"colorbar\":{\"title\":\"\"},\"yaxis\":\"y\",\"x\":[0.0,2.0,4.0,6.0,8.0,10.0],\"showlegend\":true,\"mode\":\"lines+markers\",\"name\":\"5 cells\",\"marker\":{\"symbol\":\"octagon\",\"color\":\"rgba(227, 111, 71, 1.000)\",\"line\":{\"color\":\"rgba(0, 0, 0, 1.000)\",\"width\":1},\"size\":10},\"line\":{\"color\":\"rgba(227, 111, 71, 1.000)\",\"shape\":\"linear\",\"dash\":\"solid\",\"width\":3},\"y\":[0.0,0.02587325665927174,0.025997530941398093,0.047552520344638784,0.07701984351983536,0.07847106623610847],\"type\":\"scatter\"},{\"xaxis\":\"x\",\"colorbar\":{\"title\":\"\"},\"yaxis\":\"y\",\"x\":[0.0,1.0,2.0,3.0,4.0,5.0,6.0,7.0,8.0,9.0,10.0],\"showlegend\":true,\"mode\":\"lines+markers\",\"name\":\"10 cells\",\"marker\":{\"symbol\":\"octagon\",\"color\":\"rgba(62, 164, 78, 1.000)\",\"line\":{\"color\":\"rgba(0, 0, 0, 1.000)\",\"width\":1},\"size\":10},\"line\":{\"color\":\"rgba(62, 164, 78, 1.000)\",\"shape\":\"linear\",\"dash\":\"solid\",\"width\":3},\"y\":[0.0,0.016805407546648075,0.02587438979999305,0.026583355203041486,0.025994873136769583,0.03236438020196109,0.04755016988034321,0.06530488607744606,0.07701931350469955,0.07963765051231424,0.0784669990335464],\"type\":\"scatter\"},{\"xaxis\":\"x\",\"colorbar\":{\"title\":\"\"},\"yaxis\":\"y\",\"x\":[0.0,0.5,1.0,1.5,2.0,2.5,3.0,3.5,4.0,4.5,5.0,5.5,6.0,6.5,7.0,7.5,8.0,8.5,9.0,9.5,10.0],\"showlegend\":true,\"mode\":\"lines+markers\",\"name\":\"20 cells\",\"marker\":{\"symbol\":\"octagon\",\"color\":\"rgba(195, 113, 210, 1.000)\",\"line\":{\"color\":\"rgba(0, 0, 0, 1.000)\",\"width\":1},\"size\":10},\"line\":{\"color\":\"rgba(195, 113, 210, 1.000)\",\"shape\":\"linear\",\"dash\":\"solid\",\"width\":3},\"y\":[0.0,0.008989612876197475,0.016805424874424057,0.02256102250937291,0.025874404624355425,0.026961509597214706,0.026583346094315348,0.02585967160791228,0.02599483676913897,0.027982918310309253,0.032364334411208846,0.039093531480940885,0.04755013726571449,0.056690849612811504,0.06530487322400656,0.07231036457253491,0.07701930492905648,0.0793059513420904,0.07963762289797623,0.07896028471021516,0.07846694266799815],\"type\":\"scatter\"}], {\"showlegend\":true,\"xaxis\":{\"tickvals\":[0.0,5.0,10.0],\"ticks\":\"inside\",\"tickmode\":\"array\",\"domain\":[0.0658209390492855,0.9934383202099738],\"linecolor\":\"rgba(0, 0, 0, 1.000)\",\"showgrid\":false,\"title\":\"\",\"tickangle\":0,\"titlefont\":{\"color\":\"rgba(0, 0, 0, 1.000)\",\"family\":\"sans-serif\",\"size\":15},\"tickcolor\":\"rgba(0, 0, 0, 1.000)\",\"ticktext\":[\"0\",\"5\",\"10\"],\"zeroline\":false,\"type\":\"-\",\"tickfont\":{\"color\":\"rgba(0, 0, 0, 1.000)\",\"family\":\"sans-serif\",\"size\":11},\"anchor\":\"y\"},\"paper_bgcolor\":\"rgba(255, 255, 255, 1.000)\",\"annotations\":[{\"yanchor\":\"top\",\"xanchor\":\"center\",\"rotation\":-0.0,\"y\":1.0,\"font\":{\"color\":\"rgba(0, 0, 0, 1.000)\",\"family\":\"sans-serif\",\"size\":20},\"yref\":\"paper\",\"showarrow\":false,\"text\":\"Mesh size dependence\",\"xref\":\"paper\",\"x\":0.5296296296296296}],\"height\":300,\"margin\":{\"l\":0,\"b\":20,\"r\":0,\"t\":20},\"plot_bgcolor\":\"rgba(255, 255, 255, 1.000)\",\"yaxis\":{\"tickvals\":[0.0,0.05],\"ticks\":\"inside\",\"tickmode\":\"array\",\"domain\":[0.050160396617089535,0.9220618256051327],\"linecolor\":\"rgba(0, 0, 0, 1.000)\",\"showgrid\":false,\"title\":\"\",\"tickangle\":0,\"titlefont\":{\"color\":\"rgba(0, 0, 0, 1.000)\",\"family\":\"sans-serif\",\"size\":15},\"tickcolor\":\"rgba(0, 0, 0, 1.000)\",\"ticktext\":[\"0.00\",\"0.05\"],\"zeroline\":false,\"type\":\"-\",\"tickfont\":{\"color\":\"rgba(0, 0, 0, 1.000)\",\"family\":\"sans-serif\",\"size\":11},\"anchor\":\"x\"},\"legend\":{\"bordercolor\":\"rgba(0, 0, 0, 1.000)\",\"bgcolor\":\"rgba(255, 255, 255, 1.000)\",\"font\":{\"color\":\"rgba(0, 0, 0, 1.000)\",\"family\":\"sans-serif\",\"size\":11},\"y\":1.0,\"x\":1.0},\"width\":600});\n",
       "    </script>\n"
      ]
     },
     "execution_count": 23,
     "metadata": {},
     "output_type": "execute_result"
    }
   ],
   "source": [
    "meshes = [3, 5, 10, 20]\n",
    "solutions = [solver(L, sin, n, quad_degree=3) for n in meshes]\n",
    "plot(title=\"Mesh size dependence\")\n",
    "for (u, mesh) in solutions\n",
    "    plot!(mesh, u, marker=:o, lw=3, ms=5, grid=false, label=\"$(length(mesh)-1) cells\", size=(600,300))\n",
    "end\n",
    "current()"
   ]
  },
  {
   "cell_type": "code",
   "execution_count": 24,
   "metadata": {
    "collapsed": false,
    "slideshow": {
     "slide_type": "subslide"
    }
   },
   "outputs": [
    {
     "data": {
      "text/html": [
       "<script src=\"/opt/julia_packages/.julia/v0.6/Plots/src/backends/../../deps/plotly-latest.min.js\"></script>    <div id=\"df3fcc8c-888e-4245-9ae9-db556f92d5d8\" style=\"width:600px;height:400px;\"></div>\n",
       "    <script>\n",
       "    PLOT = document.getElementById('df3fcc8c-888e-4245-9ae9-db556f92d5d8');\n",
       "    Plotly.plot(PLOT, [{\"xaxis\":\"x\",\"colorbar\":{\"title\":\"\"},\"yaxis\":\"y\",\"x\":[3.3333333333333335,2.0,1.0],\"showlegend\":true,\"mode\":\"lines+markers\",\"name\":\"y1\",\"marker\":{\"symbol\":\"octagon\",\"color\":\"rgba(0, 154, 250, 1.000)\",\"line\":{\"color\":\"rgba(0, 0, 0, 1.000)\",\"width\":1},\"size\":10},\"line\":{\"color\":\"rgba(0, 154, 250, 1.000)\",\"shape\":\"linear\",\"dash\":\"solid\",\"width\":3},\"y\":[0.00012186170484142222,4.123568110317444e-6,5.6365548242731656e-8],\"type\":\"scatter\"}], {\"showlegend\":false,\"xaxis\":{\"tickvals\":[1.0,1.2589254117941673,1.5848931924611136,1.9952623149688797,2.51188643150958,3.1622776601683795],\"ticks\":\"inside\",\"tickmode\":\"array\",\"domain\":[0.10609871682706327,0.9934383202099737],\"linecolor\":\"rgba(0, 0, 0, 1.000)\",\"showgrid\":true,\"title\":\"log h\",\"tickangle\":0,\"titlefont\":{\"color\":\"rgba(0, 0, 0, 1.000)\",\"family\":\"sans-serif\",\"size\":15},\"tickcolor\":\"rgba(0, 0, 0, 1.000)\",\"ticktext\":[\"10^0.0\",\"10^0.1\",\"10^0.2\",\"10^0.3\",\"10^0.4\",\"10^0.5\"],\"zeroline\":false,\"type\":\"log\",\"tickfont\":{\"color\":\"rgba(0, 0, 0, 1.000)\",\"family\":\"sans-serif\",\"size\":11},\"anchor\":\"y\"},\"paper_bgcolor\":\"rgba(255, 255, 255, 1.000)\",\"annotations\":[],\"height\":400,\"margin\":{\"l\":0,\"b\":20,\"r\":0,\"t\":20},\"plot_bgcolor\":\"rgba(255, 255, 255, 1.000)\",\"yaxis\":{\"tickvals\":[1.0e-6,0.0001],\"ticks\":\"inside\",\"tickmode\":\"array\",\"domain\":[0.07581474190726165,0.9901574803149606],\"linecolor\":\"rgba(0, 0, 0, 1.000)\",\"showgrid\":true,\"title\":\"log error\",\"tickangle\":0,\"titlefont\":{\"color\":\"rgba(0, 0, 0, 1.000)\",\"family\":\"sans-serif\",\"size\":15},\"tickcolor\":\"rgba(0, 0, 0, 1.000)\",\"ticktext\":[\"10^-6\",\"10^-4\"],\"zeroline\":false,\"type\":\"log\",\"tickfont\":{\"color\":\"rgba(0, 0, 0, 1.000)\",\"family\":\"sans-serif\",\"size\":11},\"anchor\":\"x\"},\"width\":600});\n",
       "    </script>\n"
      ]
     },
     "execution_count": 24,
     "metadata": {},
     "output_type": "execute_result"
    }
   ],
   "source": [
    "last_u, last_mesh = solutions[end]\n",
    "err = [ abs(u[end] - last_u[end]) for (u, mesh) in solutions[1:end-1] ]\n",
    "hs = [mesh[2] - mesh[1] for (u, mesh) in solutions[1:end-1] ]\n",
    "\n",
    "plot(hs, err, lw=3,\n",
    "     marker=:o, ms=5, leg=false, yscale=:log10, xscale=:log10,\n",
    "     xlabel=\"log h\", ylabel=\"log error\")"
   ]
  },
  {
   "cell_type": "markdown",
   "metadata": {
    "slideshow": {
     "slide_type": "subslide"
    }
   },
   "source": [
    "## Quadrature accuracy convergence\n",
    "\n",
    "$\\int_{x_i}^{x_{i+1}} N(x) f(x)\\, \\mathrm{d}x$ performed with Gaussian quadrature. Can increase number of integration points: order $n$ is exact for polynomials of degree $n$."
   ]
  },
  {
   "cell_type": "code",
   "execution_count": 25,
   "metadata": {
    "collapsed": false
   },
   "outputs": [
    {
     "data": {
      "text/html": [
       "<script src=\"/opt/julia_packages/.julia/v0.6/Plots/src/backends/../../deps/plotly-latest.min.js\"></script>    <div id=\"1f788d70-a8da-4338-9d71-36369771ae4d\" style=\"width:600px;height:200px;\"></div>\n",
       "    <script>\n",
       "    PLOT = document.getElementById('1f788d70-a8da-4338-9d71-36369771ae4d');\n",
       "    Plotly.plot(PLOT, [{\"xaxis\":\"x\",\"colorbar\":{\"title\":\"\"},\"yaxis\":\"y\",\"x\":[0.0,1.0,2.0,3.0,4.0,5.0,6.0,7.0,8.0,9.0,10.0],\"showlegend\":true,\"mode\":\"lines+markers\",\"name\":\"Order 1\",\"marker\":{\"symbol\":\"octagon\",\"color\":\"rgba(0, 154, 250, 1.000)\",\"line\":{\"color\":\"rgba(0, 0, 0, 1.000)\",\"width\":1},\"size\":10},\"line\":{\"color\":\"rgba(0, 154, 250, 1.000)\",\"shape\":\"linear\",\"dash\":\"solid\",\"width\":3},\"y\":[0.0,0.016782821861092413,0.026181041096143533,0.0275994246776546,0.02777936367709398,0.03460086940330694,0.04983772734569735,0.06752668697550064,0.07945004678099116,0.08269097113949052,0.08231521553718148],\"type\":\"scatter\"},{\"xaxis\":\"x\",\"colorbar\":{\"title\":\"\"},\"yaxis\":\"y\",\"x\":[0.0,1.0,2.0,3.0,4.0,5.0,6.0,7.0,8.0,9.0,10.0],\"showlegend\":true,\"mode\":\"lines+markers\",\"name\":\"Order 2\",\"marker\":{\"symbol\":\"octagon\",\"color\":\"rgba(227, 111, 71, 1.000)\",\"line\":{\"color\":\"rgba(0, 0, 0, 1.000)\",\"width\":1},\"size\":10},\"line\":{\"color\":\"rgba(227, 111, 71, 1.000)\",\"shape\":\"linear\",\"dash\":\"solid\",\"width\":3},\"y\":[0.0,0.016809584122053668,0.02587705509348808,0.026578362889779224,0.02598126932709157,0.03234728044315005,0.04753605594604286,0.06529564665486531,0.07701050774430278,0.07962259092440427,0.0784428999354512],\"type\":\"scatter\"},{\"xaxis\":\"x\",\"colorbar\":{\"title\":\"\"},\"yaxis\":\"y\",\"x\":[0.0,1.0,2.0,3.0,4.0,5.0,6.0,7.0,8.0,9.0,10.0],\"showlegend\":true,\"mode\":\"lines+markers\",\"name\":\"Order 3\",\"marker\":{\"symbol\":\"octagon\",\"color\":\"rgba(62, 164, 78, 1.000)\",\"line\":{\"color\":\"rgba(0, 0, 0, 1.000)\",\"width\":1},\"size\":10},\"line\":{\"color\":\"rgba(62, 164, 78, 1.000)\",\"shape\":\"linear\",\"dash\":\"solid\",\"width\":3},\"y\":[0.0,0.016805407546648075,0.02587438979999305,0.026583355203041486,0.025994873136769583,0.03236438020196109,0.04755016988034321,0.06530488607744606,0.07701931350469955,0.07963765051231424,0.0784669990335464],\"type\":\"scatter\"},{\"xaxis\":\"x\",\"colorbar\":{\"title\":\"\"},\"yaxis\":\"y\",\"x\":[0.0,1.0,2.0,3.0,4.0,5.0,6.0,7.0,8.0,9.0,10.0],\"showlegend\":true,\"mode\":\"lines+markers\",\"name\":\"Order 4\",\"marker\":{\"symbol\":\"octagon\",\"color\":\"rgba(195, 113, 210, 1.000)\",\"line\":{\"color\":\"rgba(0, 0, 0, 1.000)\",\"width\":1},\"size\":10},\"line\":{\"color\":\"rgba(195, 113, 210, 1.000)\",\"shape\":\"linear\",\"dash\":\"solid\",\"width\":3},\"y\":[0.0,0.01680542516864336,0.02587440487749088,0.026583345944036815,0.025994836159213986,0.0323643336432025,0.047550136721731875,0.06530487301538711,0.077019304794009,0.07963762244226853,0.0784669417274123],\"type\":\"scatter\"}], {\"showlegend\":true,\"xaxis\":{\"tickvals\":[0.0,5.0,10.0],\"ticks\":\"inside\",\"tickmode\":\"array\",\"domain\":[0.0658209390492855,0.9934383202099738],\"linecolor\":\"rgba(0, 0, 0, 1.000)\",\"showgrid\":true,\"title\":\"\",\"tickangle\":0,\"titlefont\":{\"color\":\"rgba(0, 0, 0, 1.000)\",\"family\":\"sans-serif\",\"size\":15},\"tickcolor\":\"rgba(0, 0, 0, 1.000)\",\"ticktext\":[\"0\",\"5\",\"10\"],\"zeroline\":false,\"type\":\"-\",\"tickfont\":{\"color\":\"rgba(0, 0, 0, 1.000)\",\"family\":\"sans-serif\",\"size\":11},\"anchor\":\"y\"},\"paper_bgcolor\":\"rgba(255, 255, 255, 1.000)\",\"annotations\":[{\"yanchor\":\"top\",\"xanchor\":\"center\",\"rotation\":-0.0,\"y\":1.0,\"font\":{\"color\":\"rgba(0, 0, 0, 1.000)\",\"family\":\"sans-serif\",\"size\":20},\"yref\":\"paper\",\"showarrow\":false,\"text\":\"p-convergence\",\"xref\":\"paper\",\"x\":0.5296296296296296}],\"height\":200,\"margin\":{\"l\":0,\"b\":20,\"r\":0,\"t\":20},\"plot_bgcolor\":\"rgba(255, 255, 255, 1.000)\",\"yaxis\":{\"tickvals\":[0.0,0.05],\"ticks\":\"inside\",\"tickmode\":\"array\",\"domain\":[0.07524059492563417,0.883092738407699],\"linecolor\":\"rgba(0, 0, 0, 1.000)\",\"showgrid\":true,\"title\":\"\",\"tickangle\":0,\"titlefont\":{\"color\":\"rgba(0, 0, 0, 1.000)\",\"family\":\"sans-serif\",\"size\":15},\"tickcolor\":\"rgba(0, 0, 0, 1.000)\",\"ticktext\":[\"0.00\",\"0.05\"],\"zeroline\":false,\"type\":\"-\",\"tickfont\":{\"color\":\"rgba(0, 0, 0, 1.000)\",\"family\":\"sans-serif\",\"size\":11},\"anchor\":\"x\"},\"legend\":{\"bordercolor\":\"rgba(0, 0, 0, 1.000)\",\"bgcolor\":\"rgba(255, 255, 255, 1.000)\",\"font\":{\"color\":\"rgba(0, 0, 0, 1.000)\",\"family\":\"sans-serif\",\"size\":11},\"y\":1.0,\"x\":1.0},\"width\":600});\n",
       "    </script>\n"
      ]
     },
     "execution_count": 25,
     "metadata": {},
     "output_type": "execute_result"
    }
   ],
   "source": [
    "orders = [1, 2, 3, 4]\n",
    "solutions = [solver(L, sin, 10, quad_degree=order) for order in orders];\n",
    "plot(title=\"p-convergence\")\n",
    "for ((u, mesh), order) in zip(solutions, orders)\n",
    "    plot!(mesh, u, lw=3, ms=5, marker=:o, label=\"Order $(order)\", \n",
    "    size=(600,200))\n",
    "end\n",
    "current()"
   ]
  },
  {
   "cell_type": "code",
   "execution_count": 26,
   "metadata": {
    "collapsed": false,
    "slideshow": {
     "slide_type": "subslide"
    }
   },
   "outputs": [
    {
     "data": {
      "text/html": [
       "<script src=\"/opt/julia_packages/.julia/v0.6/Plots/src/backends/../../deps/plotly-latest.min.js\"></script>    <div id=\"c9d17e43-028e-44c4-9181-19469c96f9dd\" style=\"width:600px;height:400px;\"></div>\n",
       "    <script>\n",
       "    PLOT = document.getElementById('c9d17e43-028e-44c4-9181-19469c96f9dd');\n",
       "    Plotly.plot(PLOT, [{\"xaxis\":\"x\",\"colorbar\":{\"title\":\"\"},\"yaxis\":\"y\",\"x\":[1,2,3],\"showlegend\":true,\"mode\":\"lines+markers\",\"name\":\"y1\",\"marker\":{\"symbol\":\"octagon\",\"color\":\"rgba(0, 154, 250, 1.000)\",\"line\":{\"color\":\"rgba(0, 0, 0, 1.000)\",\"width\":1},\"size\":8},\"line\":{\"color\":\"rgba(0, 154, 250, 1.000)\",\"shape\":\"linear\",\"dash\":\"solid\",\"width\":3},\"y\":[0.0038482738097691815,2.4041791961096348e-5,5.730613410193097e-8],\"type\":\"scatter\"}], {\"showlegend\":false,\"xaxis\":{\"tickvals\":[1.0,2.0,3.0],\"ticks\":\"inside\",\"tickmode\":\"array\",\"domain\":[0.10609871682706327,0.9934383202099737],\"linecolor\":\"rgba(0, 0, 0, 1.000)\",\"showgrid\":true,\"title\":\"Order\",\"tickangle\":0,\"titlefont\":{\"color\":\"rgba(0, 0, 0, 1.000)\",\"family\":\"sans-serif\",\"size\":15},\"tickcolor\":\"rgba(0, 0, 0, 1.000)\",\"ticktext\":[\"1\",\"2\",\"3\"],\"zeroline\":false,\"type\":\"-\",\"tickfont\":{\"color\":\"rgba(0, 0, 0, 1.000)\",\"family\":\"sans-serif\",\"size\":11},\"anchor\":\"y\"},\"paper_bgcolor\":\"rgba(255, 255, 255, 1.000)\",\"annotations\":[],\"height\":400,\"margin\":{\"l\":0,\"b\":20,\"r\":0,\"t\":20},\"plot_bgcolor\":\"rgba(255, 255, 255, 1.000)\",\"yaxis\":{\"tickvals\":[1.0e-6,0.0001],\"ticks\":\"inside\",\"tickmode\":\"array\",\"domain\":[0.07581474190726165,0.9901574803149606],\"linecolor\":\"rgba(0, 0, 0, 1.000)\",\"showgrid\":true,\"title\":\"Error\",\"tickangle\":0,\"titlefont\":{\"color\":\"rgba(0, 0, 0, 1.000)\",\"family\":\"sans-serif\",\"size\":15},\"tickcolor\":\"rgba(0, 0, 0, 1.000)\",\"ticktext\":[\"10^-6\",\"10^-4\"],\"zeroline\":false,\"type\":\"log\",\"tickfont\":{\"color\":\"rgba(0, 0, 0, 1.000)\",\"family\":\"sans-serif\",\"size\":11},\"anchor\":\"x\"},\"width\":600});\n",
       "    </script>\n"
      ]
     },
     "execution_count": 26,
     "metadata": {},
     "output_type": "execute_result"
    }
   ],
   "source": [
    "last_u, last_mesh = solutions[end]\n",
    "err = [ abs(u[end] - last_u[end]) for (u, mesh) in solutions ]\n",
    "plot(orders[1:end-1], err[1:end-1], lw=3,\n",
    "     marker=:o, leg=false, yscale=:log10,\n",
    "     xlabel=:Order, ylabel=:Error)"
   ]
  },
  {
   "cell_type": "markdown",
   "metadata": {
    "slideshow": {
     "slide_type": "slide"
    }
   },
   "source": [
    "## Generalising the Finite Element Method\n",
    "\n",
    "Many problems can be describe by the differential equation with the **strong form**\n",
    "\n",
    "$$\n",
    "\\frac{\\mathrm{d}}{\\mathrm{d}x}\\left(\n",
    "a \\frac{\\mathrm{d}u}{\\mathrm{d}x}\n",
    "\\right) - cu + q = 0\n",
    "$$\n",
    "subject to boundary conditions $u(0) = u_0$, $\\left[ a \\frac{\\mathrm{d}u}{\\mathrm{d}x} \\right]_{x=L} = Q_0$"
   ]
  },
  {
   "cell_type": "markdown",
   "metadata": {
    "slideshow": {
     "slide_type": "subslide"
    }
   },
   "source": [
    "## Weak Form of the Governing Equation\n",
    "\n",
    "Multiplying by an unknown weight function $w(x)$ and integrating by parts leads to **weak form** of governing equation\n",
    "\n",
    "$$\n",
    "\\int_{0}^{L} \\left(\n",
    "a \\frac{\\mathrm{d}u}{\\mathrm{d}x}\n",
    "\\frac{\\mathrm{d}w}{\\mathrm{d}x} + cwu - wq\n",
    "\\right) \\mathrm{d}x - \\left.wQ\\right|_{0} - \\left.wQ\\right|_{L} = 0\n",
    "$$\n",
    "\n",
    "where $Q = a \\frac{\\mathrm{d}u}{\\mathrm{d}x} n_x$ is a secondary variable and $n_x$ are the direction cosines: in 1D these are $n_x(0) = -1, n_x(L)= +1$. Substituting $w(x) = N_i(x)$ for each shape function in turn recovers Galerkin method for minimising resisdual."
   ]
  },
  {
   "cell_type": "markdown",
   "metadata": {
    "collapsed": true,
    "slideshow": {
     "slide_type": "subslide"
    }
   },
   "source": [
    "## Example Applications\n",
    "\n",
    "$$\n",
    "\\frac{\\mathrm{d}}{\\mathrm{d}x}\\left(\n",
    "a \\frac{\\mathrm{d}u}{\\mathrm{d}x}\n",
    "\\right) - cu + q = 0\n",
    "\\;\\text{with BCs}\\; u(0) = u_0, \\left[ a(x) \\frac{\\mathrm{du}}{\\mathrm{d}x} \\right]_{x=L} = Q_0\n",
    "$$\n",
    "\n",
    "<img width=\"80%\" src=\"https://github.com/tjfulle/fem-with-python/raw/ff55de94475de382f916a8483c84dc2d300fcd0e/Lessons/Images/weak.d/table-of-apps.png\">"
   ]
  },
  {
   "cell_type": "markdown",
   "metadata": {
    "slideshow": {
     "slide_type": "slide"
    }
   },
   "source": [
    "## Heat Conduction\n",
    "\n",
    "<img src=\"https://github.com/tjfulle/fem-with-python/raw/ff55de94475de382f916a8483c84dc2d300fcd0e/Lessons/Images/strong.d/heat-1.png\" width=\"80%\" align=\"center\">\n",
    "\n",
    "Here $s(x)$ is heat generated, $q(x)$ is heat flux. Energy balance gives:\n",
    "$$\n",
    "s\\left(x + \\frac{\\Delta x}{2}\\right) + q(x)A(x) - q(x + \\Delta x)A(x + \\Delta x) = 0\n",
    "$$"
   ]
  },
  {
   "cell_type": "markdown",
   "metadata": {
    "slideshow": {
     "slide_type": "subslide"
    }
   },
   "source": [
    "The **constitutive equation** is Fourier's law of heat conduction\n",
    "$$\n",
    "q = -k \\frac{\\mathrm{d}T}{\\mathrm{d}x}\n",
    "$$\n",
    "\n",
    "Rearranging and taking the limit as $\\Delta x \\to 0$ gives\n",
    "$$\n",
    "\\frac{\\mathrm{d}}{\\mathrm{d}x}\\left(\n",
    "kA \\frac{\\mathrm{d}T}{\\mathrm{d}x}\n",
    "\\right) + s(T,x) = 0\n",
    "$$\n",
    "\n",
    "with boundary conditions $T(0) = T_0,\\; q_0 = -k \\frac{\\mathrm{d}T}{\\mathrm{d}x}$ at $x=L$.\n",
    "\n",
    "This is in the required form for a Finite Element Method numerical solution."
   ]
  },
  {
   "cell_type": "markdown",
   "metadata": {
    "slideshow": {
     "slide_type": "slide"
    }
   },
   "source": [
    "## Time-dependent Solutions\n",
    "\n",
    "So far all the problems we've looked at have been **static**. Considering a time-dependent temperature distribution leads to the **partial differential equation**\n",
    "\n",
    "$$\n",
    "\\rho C_p \\frac{\\partial T}{\\partial t} +\n",
    "\\frac{\\partial}{\\partial x}\\left(\n",
    "- k \\frac{\\partial T}{\\partial x}\n",
    "\\right) = s(T,t,x)\n",
    "$$\n",
    "\n",
    "where $\\rho$ and $C_p$ are the material density and heat capacity.\n",
    "\n",
    "This equation can also be solved by the FEM approach, by discretising in time as well as in space."
   ]
  },
  {
   "cell_type": "markdown",
   "metadata": {
    "slideshow": {
     "slide_type": "slide"
    }
   },
   "source": [
    "## Beyond One Dimension\n",
    "\n",
    "Method can be extended to more realistic problems, for example a mathematical model of a heat sink\n",
    "\n",
    "$$\n",
    "\\rho C_p \\frac{\\partial T}{\\partial t} +\n",
    "\\nabla \\cdot \\left(\n",
    "- k \\nabla T\n",
    "\\right) = s(T,t,\\boldsymbol{x})\n",
    "$$\n",
    "\n",
    "in $\\Omega$ subject to BCs $T = T_0$ on $\\partial \\Omega_1$, normal heat flux $(-k \\nabla T)\\cdot\\boldsymbol{n}$ $= h(T - T_\\mathrm{amb})$ on $\\partial \\Omega_2$ and $(-k \\nabla T)\\cdot\\boldsymbol{n} = 0$ on $\\nabla\\Omega_3$.\n",
    "\n",
    "<table style=\"border-style: hidden;\">\n",
    "<tr>\n",
    "<td style=\"border-right: none\"><img width=\"70%\" src=\"https://cdn.comsol.com/cyclopedia/finite-element-method/heat-sink-model.png\"></td>\n",
    "<td style=\"border-left: none\"><img width=\"70%\" src=\"https://cdn.comsol.com/cyclopedia/finite-element-method/temperature-field-heat-sink-model.png\"></td>\n",
    "</tr>\n",
    "</table>"
   ]
  },
  {
   "cell_type": "markdown",
   "metadata": {
    "slideshow": {
     "slide_type": "slide"
    }
   },
   "source": [
    "## Summary of Finite Element Method\n",
    "\n",
    "- The finite element method can be used to solve a wide range of PDEs numerically\n",
    "- Main steps:\n",
    "    1. Pre-processing: define mesh and element model, assembly global stiffness matrix\n",
    "    2. Solve: using a direct or iterative method\n",
    "    3. Post-process to extract desired output quantities\n",
    "- 1D problems can be hand-coded, but generally best to use a commerical code for more complex problems: more on this in COMSOL workshops."
   ]
  },
  {
   "cell_type": "markdown",
   "metadata": {
    "slideshow": {
     "slide_type": "subslide"
    }
   },
   "source": [
    "## FEM Inputs and Outputs\n",
    "\n",
    "- User Inputs:\n",
    "    - PDE and boundary conditions\n",
    "    - Domain, mesh and element types\n",
    "    - Constituitive equation defining material properties\n",
    "- FEM Outputs:\n",
    "    - Primary field quantity at nodes and within elements (e.g. displacement, temperature)\n",
    "    - Secondary (derived) quantities (e.g. stress, heat flux)"
   ]
  },
  {
   "cell_type": "markdown",
   "metadata": {
    "slideshow": {
     "slide_type": "subslide"
    }
   },
   "source": [
    "## Strengths and Limitations\n",
    "\n",
    "**Strengths:**\n",
    "- Ideal for problems where physics is well understood but geometry is complex\n",
    "- Wide range of PDEs and boundary conditions can be modelled\n",
    "    \n",
    "**Limitations:**\n",
    "- FEM produces approximate solutions with inherent errors\n",
    "- Only as good as physics used in approximate element models\n",
    "- Mesh spacing and integration order must be carefully tested\n",
    "- Prone to \"user error\": easy to produce beautiful but meaningless plots"
   ]
  },
  {
   "cell_type": "markdown",
   "metadata": {
    "slideshow": {
     "slide_type": "slide"
    }
   },
   "source": [
    "## Demonstration 2D FEM code\n",
    "\n",
    "If time allows, we will discuss a simple 2D code to solve the equation\n",
    "\n",
    "$$\\begin{align*}\n",
    " - \\nabla^2 u &= 1, \\quad  x \\in \\Omega \\\\\n",
    "  u &= 0, \\quad x \\in \\partial \\Omega_\\mathrm{D}, \\\\\n",
    "  \\nabla u \\cdot \\boldsymbol{n} &= 0, \\quad x \\in \\partial\\Omega_\\mathrm{N}.\n",
    "\\end{align*}$$\n",
    "\n",
    "This represents a simplification of the static heat transfer problem above."
   ]
  },
  {
   "cell_type": "markdown",
   "metadata": {
    "slideshow": {
     "slide_type": "subslide"
    }
   },
   "source": [
    "### Mesh Generation\n",
    "\n",
    "First we need to create a triangular mesh"
   ]
  },
  {
   "cell_type": "code",
   "execution_count": 27,
   "metadata": {
    "collapsed": false,
    "slideshow": {
     "slide_type": "slide"
    }
   },
   "outputs": [
    {
     "data": {
      "text/plain": [
       "mesh2d (generic function with 1 method)"
      ]
     },
     "execution_count": 27,
     "metadata": {},
     "output_type": "execute_result"
    }
   ],
   "source": [
    "function mesh2d(N)\n",
    "    X = linspace(0, 1, N+1) * ones(1, N+1)\n",
    "    X = [X[:]'; X'[:]']\n",
    "    T = zeros(Int, 3, 2*N^2)\n",
    "    idx = 0\n",
    "    for icol = 1:N, irow = 1:N\n",
    "        a = (icol-1)*(N+1)+irow\n",
    "        idx += 1; T[:,idx] = [a; a+1; a+N+2]\n",
    "        idx += 1; T[:,idx] = [a; a+N+2; a+N+1]\n",
    "    end\n",
    "    Ifree = find((X[1,:] .> 0) & (X[1,:] .< 1) & (X[2,:] .< 1))\n",
    "    return X, T, Ifree\n",
    "end"
   ]
  },
  {
   "cell_type": "code",
   "execution_count": 28,
   "metadata": {
    "collapsed": false,
    "slideshow": {
     "slide_type": "subslide"
    }
   },
   "outputs": [
    {
     "data": {
      "image/png": "[encoded data removed]",
      "text/plain": [
       "PyPlot.Figure(PyObject <matplotlib.figure.Figure object at 0x7f5a402ca750>)"
      ]
     },
     "metadata": {},
     "output_type": "display_data"
    },
    {
     "name": "stderr",
     "output_type": "stream",
     "text": [
      "\u001b[1m\u001b[33mWARNING: \u001b[39m\u001b[22m\u001b[33mA::AbstractArray & B::AbstractArray is deprecated, use A .& B instead.\u001b[39m\n",
      "Stacktrace:\n",
      " [1] \u001b[1mdepwarn\u001b[22m\u001b[22m\u001b[1m(\u001b[22m\u001b[22m::String, ::Symbol\u001b[1m)\u001b[22m\u001b[22m at \u001b[1m./deprecated.jl:70\u001b[22m\u001b[22m\n",
      " [2] \u001b[1m&\u001b[22m\u001b[22m\u001b[1m(\u001b[22m\u001b[22m::BitArray{1}, ::BitArray{1}\u001b[1m)\u001b[22m\u001b[22m at \u001b[1m./deprecated.jl:57\u001b[22m\u001b[22m\n",
      " [3] \u001b[1mmesh2d\u001b[22m\u001b[22m\u001b[1m(\u001b[22m\u001b[22m::Int64\u001b[1m)\u001b[22m\u001b[22m at \u001b[1m./In[27]:11\u001b[22m\u001b[22m\n",
      " [4] \u001b[1minclude_string\u001b[22m\u001b[22m\u001b[1m(\u001b[22m\u001b[22m::String, ::String\u001b[1m)\u001b[22m\u001b[22m at \u001b[1m./loading.jl:515\u001b[22m\u001b[22m\n",
      " [5] \u001b[1mexecute_request\u001b[22m\u001b[22m\u001b[1m(\u001b[22m\u001b[22m::ZMQ.Socket, ::IJulia.Msg\u001b[1m)\u001b[22m\u001b[22m at \u001b[1m/opt/julia_packages/.julia/v0.6/IJulia/src/execute_request.jl:160\u001b[22m\u001b[22m\n",
      " [6] \u001b[1meventloop\u001b[22m\u001b[22m\u001b[1m(\u001b[22m\u001b[22m::ZMQ.Socket\u001b[1m)\u001b[22m\u001b[22m at \u001b[1m/opt/julia_packages/.julia/v0.6/IJulia/src/eventloop.jl:8\u001b[22m\u001b[22m\n",
      " [7] \u001b[1m(::IJulia.##11#14)\u001b[22m\u001b[22m\u001b[1m(\u001b[22m\u001b[22m\u001b[1m)\u001b[22m\u001b[22m at \u001b[1m./task.jl:335\u001b[22m\u001b[22m\n",
      "while loading In[28], in expression starting on line 1\n"
     ]
    },
    {
     "data": {
      "text/plain": [
       "PyObject <mpl_toolkits.mplot3d.art3d.Poly3DCollection object at 0x7f5a6e004990>"
      ]
     },
     "execution_count": 28,
     "metadata": {},
     "output_type": "execute_result"
    }
   ],
   "source": [
    "X, T, Ifree = mesh2d(10)\n",
    "trisurf(T, X, zeros(X))"
   ]
  },
  {
   "cell_type": "markdown",
   "metadata": {
    "slideshow": {
     "slide_type": "subslide"
    }
   },
   "source": [
    "### Assembly of Stiffness Matrix\n",
    "\n",
    "The next ingredient is the stiffness matrix $\\boldsymbol{K}$. This time we use a sparse matrix, and have to transform| from element to global coordinate system."
   ]
  },
  {
   "cell_type": "code",
   "execution_count": 29,
   "metadata": {
    "collapsed": false,
    "slideshow": {
     "slide_type": "-"
    }
   },
   "outputs": [
    {
     "data": {
      "text/plain": [
       "simple_stiffmat (generic function with 1 method)"
      ]
     },
     "execution_count": 29,
     "metadata": {},
     "output_type": "execute_result"
    }
   ],
   "source": [
    "function simple_stiffmat(X, T)\n",
    "    nT = size(T, 2); nP = size(X, 2); dim = size(X, 1)\n",
    "    facdim = factorial(dim)\n",
    "    D = vcat(-ones(1, dim), eye(dim)) # grad operator\n",
    "    F = zeros(nP)                     # rhs\n",
    "    It = Int[]; Jt = Int[]; Vt = Float64[]\n",
    "    idx = 0\n",
    "    for k = 1:nT\n",
    "        J = X[:, T[:, k]] * D # Jacobian\n",
    "        B = D / J # transformed local stiffness matrix\n",
    "        A = det(J)/facdim * B * B'\n",
    "        for i = 1:(dim+1), j = 1:(dim+1)\n",
    "            push!(It, T[i,k])\n",
    "            push!(Jt, T[j,k])\n",
    "            push!(Vt, A[i,j])\n",
    "        end\n",
    "        F[T[:,k]] += det(J)/facdim/(dim+1)  # assemble RHS for f(x)=1\n",
    "    end\n",
    "    return sparse(It, Jt, Vt, nP, nP), F\n",
    "end"
   ]
  },
  {
   "cell_type": "code",
   "execution_count": 30,
   "metadata": {
    "collapsed": false,
    "slideshow": {
     "slide_type": "subslide"
    }
   },
   "outputs": [
    {
     "data": {
      "image/png": "[encoded data removed]",
      "text/plain": [
       "PyPlot.Figure(PyObject <matplotlib.figure.Figure object at 0x7f5a67f24f90>)"
      ]
     },
     "metadata": {},
     "output_type": "display_data"
    },
    {
     "data": {
      "text/plain": [
       "PyObject <matplotlib.image.AxesImage object at 0x7f5a6579a2d0>"
      ]
     },
     "execution_count": 30,
     "metadata": {},
     "output_type": "execute_result"
    }
   ],
   "source": [
    "A, F = simple_stiffmat(X, T)\n",
    "spy(A)"
   ]
  },
  {
   "cell_type": "markdown",
   "metadata": {
    "slideshow": {
     "slide_type": "subslide"
    }
   },
   "source": [
    "### Boundary Conditions\n",
    "\n",
    "We impose BCs by removing rows and columns corresponding to fixed nodes."
   ]
  },
  {
   "cell_type": "code",
   "execution_count": 31,
   "metadata": {
    "collapsed": false
   },
   "outputs": [
    {
     "data": {
      "image/png": "[encoded data removed]",
      "text/plain": [
       "PyPlot.Figure(PyObject <matplotlib.figure.Figure object at 0x7f5a6575d250>)"
      ]
     },
     "metadata": {},
     "output_type": "display_data"
    },
    {
     "data": {
      "text/plain": [
       "PyObject <matplotlib.image.AxesImage object at 0x7f5a614cba10>"
      ]
     },
     "execution_count": 31,
     "metadata": {},
     "output_type": "execute_result"
    }
   ],
   "source": [
    "spy(A[Ifree,Ifree])"
   ]
  },
  {
   "cell_type": "markdown",
   "metadata": {
    "slideshow": {
     "slide_type": "subslide"
    }
   },
   "source": [
    "### Solve and postprocess\n",
    "\n",
    "We solve the sparse linear system and plot the solution for $u(x,y)$"
   ]
  },
  {
   "cell_type": "code",
   "execution_count": 32,
   "metadata": {
    "collapsed": false,
    "slideshow": {
     "slide_type": "-"
    }
   },
   "outputs": [
    {
     "data": {
      "image/png": "[encoded data removed]",
      "text/plain": [
       "PyPlot.Figure(PyObject <matplotlib.figure.Figure object at 0x7f5a65890450>)"
      ]
     },
     "metadata": {},
     "output_type": "display_data"
    },
    {
     "data": {
      "text/plain": [
       "PyObject <mpl_toolkits.mplot3d.art3d.Poly3DCollection object at 0x7f5a613ecdd0>"
      ]
     },
     "execution_count": 32,
     "metadata": {},
     "output_type": "execute_result"
    }
   ],
   "source": [
    "U = zeros(size(X,2))\n",
    "U[Ifree] = A[Ifree,Ifree] \\ F[Ifree]\n",
    "trisurf(T, X, U)"
   ]
  },
  {
   "cell_type": "code",
   "execution_count": null,
   "metadata": {
    "collapsed": true
   },
   "outputs": [],
   "source": []
  }
 ],
 "metadata": {
  "celltoolbar": "Slideshow",
  "kernelspec": {
   "display_name": "Julia 0.6.0",
   "language": "julia",
   "name": "julia-0.6"
  },
  "language_info": {
   "file_extension": ".jl",
   "mimetype": "application/julia",
   "name": "julia",
   "version": "0.6.0"
  }
 },
 "nbformat": 4,
 "nbformat_minor": 0
}
