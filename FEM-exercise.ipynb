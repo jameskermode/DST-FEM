{
 "cells": [
  {
   "cell_type": "markdown",
   "metadata": {
    "slideshow": {
     "slide_type": "slide"
    }
   },
   "source": [
    "\n",
    "## Introduction to Finite Element Methods - Exercise Class\n",
    "\n",
    "### DST Module 4 - November 2018\n",
    "\n",
    "### James Kermode\n",
    "\n",
    "<b>j.r.kermode@warwick.ac.uk</b>\n",
    "\n",
    "Warwick Centre for Predictive Modelling / School of Engineering"
   ]
  },
  {
   "cell_type": "markdown",
   "metadata": {},
   "source": [
    "## Setup code\n",
    "\n",
    "Startup code for examples and visualisations"
   ]
  },
  {
   "cell_type": "code",
   "execution_count": 345,
   "metadata": {
    "slideshow": {
     "slide_type": "skip"
    }
   },
   "outputs": [],
   "source": [
    "using QuadGK\n",
    "using Plots\n",
    "using LaTeXStrings\n",
    "pyplot();"
   ]
  },
  {
   "cell_type": "markdown",
   "metadata": {},
   "source": [
    "## Parameters"
   ]
  },
  {
   "cell_type": "code",
   "execution_count": 356,
   "metadata": {},
   "outputs": [
    {
     "data": {
      "text/plain": [
       "10"
      ]
     },
     "execution_count": 356,
     "metadata": {},
     "output_type": "execute_result"
    }
   ],
   "source": [
    "L = 10.0\n",
    "E = 100.0\n",
    "A = 1.0\n",
    "n_cells = 10"
   ]
  },
  {
   "cell_type": "markdown",
   "metadata": {},
   "source": [
    "## Main solver routine"
   ]
  },
  {
   "cell_type": "code",
   "execution_count": 357,
   "metadata": {},
   "outputs": [
    {
     "data": {
      "text/plain": [
       "solver (generic function with 1 method)"
      ]
     },
     "execution_count": 357,
     "metadata": {},
     "output_type": "execute_result"
    }
   ],
   "source": [
    "function solver(L, f, n_cells; quad_degree=3)\n",
    "    n_nodes = n_cells + 1\n",
    "    mesh = linspace(0.0, L, n_nodes)\n",
    "    h = L/n_cells\n",
    "    k_e = (E*A/h)*[ 1 -1; -1 1]\n",
    "    K = zeros(n_nodes, n_nodes)\n",
    "    for element in 1:n_cells\n",
    "        K[element:element + 1, element:element + 1] += k_e\n",
    "    end\n",
    "    quad_points, quad_weights = gauss(Float64, quad_degree)\n",
    "    b = zeros(n_nodes)\n",
    "    for element in 1:n_cells\n",
    "        x_mid = (mesh[element + 1] + mesh[element])/2.0    \n",
    "        for (zeta, weight) in zip(quad_points, quad_weights)    \n",
    "            x = x_mid + zeta*h/2.0\n",
    "            w = weight*(h/2.0)\n",
    "            b[element] += w*(0.5 - zeta/2.0)*f(x) \n",
    "            b[element + 1] += w*(0.5 + zeta/2.0)*f(x)\n",
    "        end\n",
    "    end\n",
    "    K[1, :], K[:, 1], K[1, 1] = 0.0, 0.0, 1.0\n",
    "    b[1] = 0.0\n",
    "    return K \\ b, mesh\n",
    "end"
   ]
  },
  {
   "cell_type": "markdown",
   "metadata": {},
   "source": [
    "## Visualisation of solution"
   ]
  },
  {
   "cell_type": "code",
   "execution_count": 358,
   "metadata": {},
   "outputs": [
    {
     "data": {
      "image/png": "[encoded data removed]"
     },
     "execution_count": 358,
     "metadata": {},
     "output_type": "execute_result"
    }
   ],
   "source": [
    "u, mesh = solver(L, identity, n_cells)\n",
    "plot(mesh, u, marker=:o, xlabel=:x, lw=5, ylabel=:u, leg=false, \n",
    "     grid=false, title=\"Finite element solution for the elastic bar\", c=[:lightblue])"
   ]
  },
  {
   "cell_type": "markdown",
   "metadata": {
    "slideshow": {
     "slide_type": "subslide"
    }
   },
   "source": [
    "## Mesh convergence - $h$-refinement\n",
    "\n",
    "Use the solver with the loading function $f(x) = \\sin(x)$ to demonstrate that the error in the displacement at the right hand end of the rod scales as $h^{2p}$ when the quadrature is performed to order $p$.\n",
    "\n",
    "Adapt the code given below, replacing the `...` sections.\n",
    "\n",
    "Plot a graph of the displacement error vs. $h$ to illustrate your results for $p=1,2,3$.\n",
    "\n",
    "Now try changing $f(x)$ to something which can be integrated exactly with piecewise linear or quadratic elements. What do you notice?"
   ]
  },
  {
   "cell_type": "code",
   "execution_count": null,
   "metadata": {
    "slideshow": {
     "slide_type": "-"
    }
   },
   "outputs": [],
   "source": [
    "n_cells = ... # range of sizes to use for convergence test\n",
    "n_cell_ref = ... # size to use for reference results\n",
    "\n",
    "plot(title=\"Mesh convergence\")\n",
    "for (p, color) in zip([1, 2, 3], \n",
    "                       [:red, :green, :blue])\n",
    "    \n",
    "    # Compute solutions at a range of sizes\n",
    "    solutions = [solver(L, sin, n, quad_degree=p) for n in n_cells]    \n",
    "    \n",
    "    # Compute a reference solution\n",
    "    ref_u, ref_mesh = solver(L, sin, n_cell_ref, quad_degree=p)\n",
    "        \n",
    "    hs = [... for (u, mesh) in solutions ] # find the element size h for each solution\n",
    "    err = [... for (u, mesh) in solutions] # find the error in displacement at end for each\n",
    "\n",
    "    # Plot results\n",
    "    plot!(hs, err, lw=2, legend=true,\n",
    "          marker=:o, ms=5, yscale=:log10, xscale=:log10,\n",
    "          xlabel=\"log h\", ylabel=\"log error\", c=[color], label=\"p=$p\")\n",
    "\n",
    "    # Plot dashed lines to show expected rates\n",
    "    C = err[end] / (hs[end]^(2*p))\n",
    "    plot!(hs, C*hs.^(2.0*p), label=\"h^$(2*p)\", \n",
    "          line=(1, :dash, color), c=[color])\n",
    "end\n",
    "current()"
   ]
  }
 ],
 "metadata": {
  "kernelspec": {
   "display_name": "Julia 0.6.4",
   "language": "julia",
   "name": "julia-0.6"
  },
  "language_info": {
   "file_extension": ".jl",
   "mimetype": "application/julia",
   "name": "julia",
   "version": "0.6.4"
  }
 },
 "nbformat": 4,
 "nbformat_minor": 1
}
